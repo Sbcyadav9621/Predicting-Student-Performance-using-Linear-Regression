{
 "cells": [
  {
   "cell_type": "code",
   "execution_count": 2,
   "id": "e7f51112-60cc-4473-9ab4-d6e046a60b63",
   "metadata": {},
   "outputs": [],
   "source": [
    "# Import the package\n",
    "\n",
    "import pandas as pd\n",
    "import numpy as np\n",
    "\n",
    "import matplotlib.pyplot as plt\n",
    "import seaborn as sns\n",
    "import scipy.stats as stats\n",
    "%matplotlib inline\n",
    "\n",
    "import ydata_profiling\n",
    "from sklearn.metrics import mean_absolute_error, mean_squared_error\n",
    "from sklearn.linear_model import LinearRegression  # which will use Gradient Descent\n",
    "\n",
    "from sklearn.model_selection  import train_test_split"
   ]
  },
  {
   "cell_type": "code",
   "execution_count": 3,
   "id": "b879a47b-5567-4b1b-9caf-08ace6692fe4",
   "metadata": {},
   "outputs": [],
   "source": [
    "df = pd.read_csv(\"C:/projects/data/input/Student_Performance.csv\")"
   ]
  },
  {
   "cell_type": "code",
   "execution_count": 4,
   "id": "0819c0ab-e37f-4454-af77-f0828cadfa40",
   "metadata": {},
   "outputs": [
    {
     "data": {
      "text/html": [
       "<div>\n",
       "<style scoped>\n",
       "    .dataframe tbody tr th:only-of-type {\n",
       "        vertical-align: middle;\n",
       "    }\n",
       "\n",
       "    .dataframe tbody tr th {\n",
       "        vertical-align: top;\n",
       "    }\n",
       "\n",
       "    .dataframe thead th {\n",
       "        text-align: right;\n",
       "    }\n",
       "</style>\n",
       "<table border=\"1\" class=\"dataframe\">\n",
       "  <thead>\n",
       "    <tr style=\"text-align: right;\">\n",
       "      <th></th>\n",
       "      <th>Hours Studied</th>\n",
       "      <th>Previous Scores</th>\n",
       "      <th>Extracurricular Activities</th>\n",
       "      <th>Sleep Hours</th>\n",
       "      <th>Sample Question Papers Practiced</th>\n",
       "      <th>Performance Index</th>\n",
       "    </tr>\n",
       "  </thead>\n",
       "  <tbody>\n",
       "    <tr>\n",
       "      <th>0</th>\n",
       "      <td>7</td>\n",
       "      <td>99</td>\n",
       "      <td>Yes</td>\n",
       "      <td>9</td>\n",
       "      <td>1</td>\n",
       "      <td>91.0</td>\n",
       "    </tr>\n",
       "    <tr>\n",
       "      <th>1</th>\n",
       "      <td>4</td>\n",
       "      <td>82</td>\n",
       "      <td>No</td>\n",
       "      <td>4</td>\n",
       "      <td>2</td>\n",
       "      <td>65.0</td>\n",
       "    </tr>\n",
       "    <tr>\n",
       "      <th>2</th>\n",
       "      <td>8</td>\n",
       "      <td>51</td>\n",
       "      <td>Yes</td>\n",
       "      <td>7</td>\n",
       "      <td>2</td>\n",
       "      <td>45.0</td>\n",
       "    </tr>\n",
       "    <tr>\n",
       "      <th>3</th>\n",
       "      <td>5</td>\n",
       "      <td>52</td>\n",
       "      <td>Yes</td>\n",
       "      <td>5</td>\n",
       "      <td>2</td>\n",
       "      <td>36.0</td>\n",
       "    </tr>\n",
       "    <tr>\n",
       "      <th>4</th>\n",
       "      <td>7</td>\n",
       "      <td>75</td>\n",
       "      <td>No</td>\n",
       "      <td>8</td>\n",
       "      <td>5</td>\n",
       "      <td>66.0</td>\n",
       "    </tr>\n",
       "  </tbody>\n",
       "</table>\n",
       "</div>"
      ],
      "text/plain": [
       "   Hours Studied  Previous Scores Extracurricular Activities  Sleep Hours  \\\n",
       "0              7               99                        Yes            9   \n",
       "1              4               82                         No            4   \n",
       "2              8               51                        Yes            7   \n",
       "3              5               52                        Yes            5   \n",
       "4              7               75                         No            8   \n",
       "\n",
       "   Sample Question Papers Practiced  Performance Index  \n",
       "0                                 1               91.0  \n",
       "1                                 2               65.0  \n",
       "2                                 2               45.0  \n",
       "3                                 2               36.0  \n",
       "4                                 5               66.0  "
      ]
     },
     "execution_count": 4,
     "metadata": {},
     "output_type": "execute_result"
    }
   ],
   "source": [
    "df.head()"
   ]
  },
  {
   "cell_type": "markdown",
   "id": "c6ffa85f-0ddb-403a-803f-8a8e81728d72",
   "metadata": {},
   "source": [
    "### EDA"
   ]
  },
  {
   "cell_type": "code",
   "execution_count": 9,
   "id": "f5a280cc-a75f-4b70-8f35-0dda3224e7de",
   "metadata": {},
   "outputs": [
    {
     "data": {
      "text/plain": [
       "(10000, 6)"
      ]
     },
     "execution_count": 9,
     "metadata": {},
     "output_type": "execute_result"
    }
   ],
   "source": [
    "df.shape"
   ]
  },
  {
   "cell_type": "markdown",
   "id": "1dd1fe50-2634-4a78-b0cf-8c2715d38506",
   "metadata": {},
   "source": [
    "The dataset contains 10000 rows and 6 columns"
   ]
  },
  {
   "cell_type": "code",
   "execution_count": 12,
   "id": "5bbf19ec-c999-45e9-ad1e-ab840db4f0e6",
   "metadata": {},
   "outputs": [
    {
     "data": {
      "text/plain": [
       "Index(['Hours Studied', 'Previous Scores', 'Extracurricular Activities',\n",
       "       'Sleep Hours', 'Sample Question Papers Practiced', 'Performance Index'],\n",
       "      dtype='object')"
      ]
     },
     "execution_count": 12,
     "metadata": {},
     "output_type": "execute_result"
    }
   ],
   "source": [
    "df.columns"
   ]
  },
  {
   "cell_type": "markdown",
   "id": "33c0a310-19e7-45bd-bd4c-b9d39a5ac084",
   "metadata": {},
   "source": [
    "### Observations\n",
    "### - The column names contains spaces, we replace the space with underscore"
   ]
  },
  {
   "cell_type": "code",
   "execution_count": 15,
   "id": "182a451a-8ca8-4e14-9060-f39e2da31637",
   "metadata": {},
   "outputs": [],
   "source": [
    "df.columns = df.columns.str.replace(' ','_')"
   ]
  },
  {
   "cell_type": "code",
   "execution_count": 17,
   "id": "9c30584c-2855-477e-89fe-6fa000b5bb9f",
   "metadata": {},
   "outputs": [
    {
     "data": {
      "text/plain": [
       "Index(['Hours_Studied', 'Previous_Scores', 'Extracurricular_Activities',\n",
       "       'Sleep_Hours', 'Sample_Question_Papers_Practiced', 'Performance_Index'],\n",
       "      dtype='object')"
      ]
     },
     "execution_count": 17,
     "metadata": {},
     "output_type": "execute_result"
    }
   ],
   "source": [
    "df.columns"
   ]
  },
  {
   "cell_type": "code",
   "execution_count": 19,
   "id": "fb2ed3c8-3ecd-4927-9355-688b68f6eb20",
   "metadata": {},
   "outputs": [
    {
     "data": {
      "text/html": [
       "<div>\n",
       "<style scoped>\n",
       "    .dataframe tbody tr th:only-of-type {\n",
       "        vertical-align: middle;\n",
       "    }\n",
       "\n",
       "    .dataframe tbody tr th {\n",
       "        vertical-align: top;\n",
       "    }\n",
       "\n",
       "    .dataframe thead th {\n",
       "        text-align: right;\n",
       "    }\n",
       "</style>\n",
       "<table border=\"1\" class=\"dataframe\">\n",
       "  <thead>\n",
       "    <tr style=\"text-align: right;\">\n",
       "      <th></th>\n",
       "      <th>count</th>\n",
       "      <th>mean</th>\n",
       "      <th>std</th>\n",
       "      <th>min</th>\n",
       "      <th>25%</th>\n",
       "      <th>50%</th>\n",
       "      <th>75%</th>\n",
       "      <th>max</th>\n",
       "    </tr>\n",
       "  </thead>\n",
       "  <tbody>\n",
       "    <tr>\n",
       "      <th>Hours_Studied</th>\n",
       "      <td>10000.0</td>\n",
       "      <td>4.9929</td>\n",
       "      <td>2.589309</td>\n",
       "      <td>1.0</td>\n",
       "      <td>3.0</td>\n",
       "      <td>5.0</td>\n",
       "      <td>7.0</td>\n",
       "      <td>9.0</td>\n",
       "    </tr>\n",
       "    <tr>\n",
       "      <th>Previous_Scores</th>\n",
       "      <td>10000.0</td>\n",
       "      <td>69.4457</td>\n",
       "      <td>17.343152</td>\n",
       "      <td>40.0</td>\n",
       "      <td>54.0</td>\n",
       "      <td>69.0</td>\n",
       "      <td>85.0</td>\n",
       "      <td>99.0</td>\n",
       "    </tr>\n",
       "    <tr>\n",
       "      <th>Sleep_Hours</th>\n",
       "      <td>10000.0</td>\n",
       "      <td>6.5306</td>\n",
       "      <td>1.695863</td>\n",
       "      <td>4.0</td>\n",
       "      <td>5.0</td>\n",
       "      <td>7.0</td>\n",
       "      <td>8.0</td>\n",
       "      <td>9.0</td>\n",
       "    </tr>\n",
       "    <tr>\n",
       "      <th>Sample_Question_Papers_Practiced</th>\n",
       "      <td>10000.0</td>\n",
       "      <td>4.5833</td>\n",
       "      <td>2.867348</td>\n",
       "      <td>0.0</td>\n",
       "      <td>2.0</td>\n",
       "      <td>5.0</td>\n",
       "      <td>7.0</td>\n",
       "      <td>9.0</td>\n",
       "    </tr>\n",
       "    <tr>\n",
       "      <th>Performance_Index</th>\n",
       "      <td>10000.0</td>\n",
       "      <td>55.2248</td>\n",
       "      <td>19.212558</td>\n",
       "      <td>10.0</td>\n",
       "      <td>40.0</td>\n",
       "      <td>55.0</td>\n",
       "      <td>71.0</td>\n",
       "      <td>100.0</td>\n",
       "    </tr>\n",
       "  </tbody>\n",
       "</table>\n",
       "</div>"
      ],
      "text/plain": [
       "                                    count     mean        std   min   25%  \\\n",
       "Hours_Studied                     10000.0   4.9929   2.589309   1.0   3.0   \n",
       "Previous_Scores                   10000.0  69.4457  17.343152  40.0  54.0   \n",
       "Sleep_Hours                       10000.0   6.5306   1.695863   4.0   5.0   \n",
       "Sample_Question_Papers_Practiced  10000.0   4.5833   2.867348   0.0   2.0   \n",
       "Performance_Index                 10000.0  55.2248  19.212558  10.0  40.0   \n",
       "\n",
       "                                   50%   75%    max  \n",
       "Hours_Studied                      5.0   7.0    9.0  \n",
       "Previous_Scores                   69.0  85.0   99.0  \n",
       "Sleep_Hours                        7.0   8.0    9.0  \n",
       "Sample_Question_Papers_Practiced   5.0   7.0    9.0  \n",
       "Performance_Index                 55.0  71.0  100.0  "
      ]
     },
     "execution_count": 19,
     "metadata": {},
     "output_type": "execute_result"
    }
   ],
   "source": [
    "df.describe().T"
   ]
  },
  {
   "cell_type": "code",
   "execution_count": 21,
   "id": "8a1647f4-86f3-425a-82e8-3e6f969f758e",
   "metadata": {},
   "outputs": [
    {
     "data": {
      "text/html": [
       "<div>\n",
       "<style scoped>\n",
       "    .dataframe tbody tr th:only-of-type {\n",
       "        vertical-align: middle;\n",
       "    }\n",
       "\n",
       "    .dataframe tbody tr th {\n",
       "        vertical-align: top;\n",
       "    }\n",
       "\n",
       "    .dataframe thead th {\n",
       "        text-align: right;\n",
       "    }\n",
       "</style>\n",
       "<table border=\"1\" class=\"dataframe\">\n",
       "  <thead>\n",
       "    <tr style=\"text-align: right;\">\n",
       "      <th></th>\n",
       "      <th>count</th>\n",
       "      <th>unique</th>\n",
       "      <th>top</th>\n",
       "      <th>freq</th>\n",
       "    </tr>\n",
       "  </thead>\n",
       "  <tbody>\n",
       "    <tr>\n",
       "      <th>Extracurricular_Activities</th>\n",
       "      <td>10000</td>\n",
       "      <td>2</td>\n",
       "      <td>No</td>\n",
       "      <td>5052</td>\n",
       "    </tr>\n",
       "  </tbody>\n",
       "</table>\n",
       "</div>"
      ],
      "text/plain": [
       "                            count unique top  freq\n",
       "Extracurricular_Activities  10000      2  No  5052"
      ]
     },
     "execution_count": 21,
     "metadata": {},
     "output_type": "execute_result"
    }
   ],
   "source": [
    "df.describe(include = 'object').T"
   ]
  },
  {
   "cell_type": "markdown",
   "id": "a3bb9cdf-c656-4731-b712-59e1e3b54b9a",
   "metadata": {},
   "source": [
    "# Checking Discripancies"
   ]
  },
  {
   "cell_type": "code",
   "execution_count": 24,
   "id": "aec1b743-ab64-428e-addb-171ec13f0085",
   "metadata": {},
   "outputs": [
    {
     "name": "stdout",
     "output_type": "stream",
     "text": [
      "Extracurricular_Activities\n",
      "Extracurricular_Activities\n",
      "No     5052\n",
      "Yes    4948\n",
      "Name: count, dtype: int64\n"
     ]
    }
   ],
   "source": [
    "for i in (df.select_dtypes(include = 'object')):\n",
    "    print(i)\n",
    "    print(df[i].value_counts())\n",
    "    "
   ]
  },
  {
   "cell_type": "code",
   "execution_count": 26,
   "id": "08b2fd31-222a-4eb9-8494-70a48e5a26ea",
   "metadata": {},
   "outputs": [],
   "source": [
    "# Observations\n",
    "# - There has no descepencies in categorical variable column"
   ]
  },
  {
   "cell_type": "markdown",
   "id": "195ea8b6-c1c3-4ee1-bcdc-94b12eb2e99b",
   "metadata": {},
   "source": [
    "# Missing values detection"
   ]
  },
  {
   "cell_type": "code",
   "execution_count": 29,
   "id": "c9249fe2-38c7-41ca-a693-527a67cc7cbf",
   "metadata": {},
   "outputs": [
    {
     "data": {
      "text/plain": [
       "Hours_Studied                       0\n",
       "Previous_Scores                     0\n",
       "Extracurricular_Activities          0\n",
       "Sleep_Hours                         0\n",
       "Sample_Question_Papers_Practiced    0\n",
       "Performance_Index                   0\n",
       "dtype: int64"
      ]
     },
     "execution_count": 29,
     "metadata": {},
     "output_type": "execute_result"
    }
   ],
   "source": [
    "df.isna().sum()"
   ]
  },
  {
   "cell_type": "code",
   "execution_count": 31,
   "id": "5376b49d-08d9-4125-b0a2-c0a563bf92eb",
   "metadata": {},
   "outputs": [],
   "source": [
    "# Observations\n",
    "# There is no missing values observed in the data"
   ]
  },
  {
   "cell_type": "markdown",
   "id": "b5867253-d2b0-4597-bc99-991bc72dcb26",
   "metadata": {},
   "source": [
    "# Checking for duplicates"
   ]
  },
  {
   "cell_type": "code",
   "execution_count": 34,
   "id": "1617ff02-cd2a-4058-87e9-56710db6f3ba",
   "metadata": {},
   "outputs": [
    {
     "data": {
      "text/plain": [
       "127"
      ]
     },
     "execution_count": 34,
     "metadata": {},
     "output_type": "execute_result"
    }
   ],
   "source": [
    "df.duplicated().sum()"
   ]
  },
  {
   "cell_type": "markdown",
   "id": "63cbb535-7cf1-4b98-8308-7247e41a9d28",
   "metadata": {},
   "source": [
    " - There is 127 records were duplicated\n",
    " - We will drop those duplicate records"
   ]
  },
  {
   "cell_type": "code",
   "execution_count": 37,
   "id": "8f746aab-ffc0-4fe7-bf72-0781b2d7f2ae",
   "metadata": {},
   "outputs": [],
   "source": [
    "df = df.drop_duplicates()"
   ]
  },
  {
   "cell_type": "code",
   "execution_count": 39,
   "id": "382ad8cd-e83d-4850-b0f2-b70fb706c731",
   "metadata": {},
   "outputs": [
    {
     "data": {
      "text/plain": [
       "(9873, 6)"
      ]
     },
     "execution_count": 39,
     "metadata": {},
     "output_type": "execute_result"
    }
   ],
   "source": [
    "df.shape"
   ]
  },
  {
   "cell_type": "markdown",
   "id": "c9c1e4af-44b3-48dd-8398-143e639721c6",
   "metadata": {},
   "source": [
    " - Observations\n",
    " - There has 9873 rows and 6 columns present after droping the duplicated records"
   ]
  },
  {
   "cell_type": "markdown",
   "id": "c8dd521e-f6d5-46e5-a9c6-ffbae26e5df7",
   "metadata": {},
   "source": [
    "# Univariate Analysis"
   ]
  },
  {
   "cell_type": "code",
   "execution_count": 43,
   "id": "2a2e8fac-32d4-4069-8663-9dfd4e64d2f2",
   "metadata": {},
   "outputs": [],
   "source": [
    "num_cols = df.select_dtypes(exclude = 'object')"
   ]
  },
  {
   "cell_type": "code",
   "execution_count": 45,
   "id": "bbbb4e08-0f1a-4804-8e4b-ccd4872ff772",
   "metadata": {},
   "outputs": [
    {
     "data": {
      "image/png": "[encoded data removed]",
      "text/plain": [
       "<Figure size 640x480 with 1 Axes>"
      ]
     },
     "metadata": {},
     "output_type": "display_data"
    },
    {
     "data": {
      "image/png": "[encoded data removed]",
      "text/plain": [
       "<Figure size 640x480 with 1 Axes>"
      ]
     },
     "metadata": {},
     "output_type": "display_data"
    },
    {
     "data": {
      "image/png": "[encoded data removed]",
      "text/plain": [
       "<Figure size 640x480 with 1 Axes>"
      ]
     },
     "metadata": {},
     "output_type": "display_data"
    },
    {
     "data": {
      "image/png": "[encoded data removed]",
      "text/plain": [
       "<Figure size 640x480 with 1 Axes>"
      ]
     },
     "metadata": {},
     "output_type": "display_data"
    },
    {
     "data": {
      "image/png": "[encoded data removed]",
      "text/plain": [
       "<Figure size 640x480 with 1 Axes>"
      ]
     },
     "metadata": {},
     "output_type": "display_data"
    }
   ],
   "source": [
    "for i in num_cols:\n",
    "    sns.histplot(data = df, x = i)\n",
    "    plt.show()"
   ]
  },
  {
   "cell_type": "code",
   "execution_count": 46,
   "id": "0258675a-2e1a-49d0-aa7a-fb36dd519039",
   "metadata": {},
   "outputs": [
    {
     "data": {
      "image/png": "[encoded data removed]",
      "text/plain": [
       "<Figure size 640x480 with 1 Axes>"
      ]
     },
     "metadata": {},
     "output_type": "display_data"
    }
   ],
   "source": [
    "# Creating Boxplot for numerical variables\n",
    "num_cols.boxplot(vert = 0)\n",
    "plt.show()"
   ]
  },
  {
   "cell_type": "markdown",
   "id": "2f39801c-3186-43ac-ae21-9f7ad77e18ef",
   "metadata": {},
   "source": [
    "- Observations\n",
    "- There is no outliers present in the data"
   ]
  },
  {
   "cell_type": "markdown",
   "id": "95e0d576-e3bc-401e-92a4-e86a04373adb",
   "metadata": {},
   "source": [
    "# Bivariate Analysis"
   ]
  },
  {
   "cell_type": "markdown",
   "id": "464df6cd-afdc-4892-906b-bad130436303",
   "metadata": {},
   "source": [
    "- Finding correlation "
   ]
  },
  {
   "cell_type": "code",
   "execution_count": 529,
   "id": "200fac61-666a-41df-b4fe-ff153b70071d",
   "metadata": {},
   "outputs": [],
   "source": [
    "cor = num_cols.corr()"
   ]
  },
  {
   "cell_type": "code",
   "execution_count": 530,
   "id": "a0a39c54-3999-4c4b-9010-4110b7048539",
   "metadata": {},
   "outputs": [
    {
     "data": {
      "text/plain": [
       "<Axes: >"
      ]
     },
     "execution_count": 530,
     "metadata": {},
     "output_type": "execute_result"
    },
    {
     "data": {
      "image/png": "[encoded data removed]",
      "text/plain": [
       "<Figure size 640x480 with 2 Axes>"
      ]
     },
     "metadata": {},
     "output_type": "display_data"
    }
   ],
   "source": [
    "sns.heatmap(data =  cor,annot = True,\n",
    "            vmin = -1,vmax = +1,cmap = 'Blues')"
   ]
  },
  {
   "cell_type": "markdown",
   "id": "fe5112e3-1c32-4b31-8f5b-072386085250",
   "metadata": {},
   "source": [
    " - Observations\n",
    " - Sample_Question_papers_practiced & Previous_scores have a high correlation\n"
   ]
  },
  {
   "cell_type": "markdown",
   "id": "8d5c6d08-283c-40de-b4e9-fc28a55d23b7",
   "metadata": {},
   "source": [
    "- Observations\n",
    "- The above plot follow Bell Curve shape, which indicates the Normality.\n",
    "- The target variable following Normality"
   ]
  },
  {
   "cell_type": "markdown",
   "id": "d623bee0-bf65-444a-8dc7-f6a2697949ba",
   "metadata": {},
   "source": [
    "# Data Preprocessing"
   ]
  },
  {
   "cell_type": "code",
   "execution_count": 534,
   "id": "b502da46-bc8a-4699-9293-b5f430654d4f",
   "metadata": {},
   "outputs": [
    {
     "data": {
      "text/html": [
       "<div>\n",
       "<style scoped>\n",
       "    .dataframe tbody tr th:only-of-type {\n",
       "        vertical-align: middle;\n",
       "    }\n",
       "\n",
       "    .dataframe tbody tr th {\n",
       "        vertical-align: top;\n",
       "    }\n",
       "\n",
       "    .dataframe thead th {\n",
       "        text-align: right;\n",
       "    }\n",
       "</style>\n",
       "<table border=\"1\" class=\"dataframe\">\n",
       "  <thead>\n",
       "    <tr style=\"text-align: right;\">\n",
       "      <th></th>\n",
       "      <th>Hours_Studied</th>\n",
       "      <th>Previous_Scores</th>\n",
       "      <th>Extracurricular_Activities</th>\n",
       "      <th>Sleep_Hours</th>\n",
       "      <th>Sample_Question_Papers_Practiced</th>\n",
       "      <th>Performance_Index</th>\n",
       "    </tr>\n",
       "  </thead>\n",
       "  <tbody>\n",
       "    <tr>\n",
       "      <th>0</th>\n",
       "      <td>7</td>\n",
       "      <td>99</td>\n",
       "      <td>Yes</td>\n",
       "      <td>9</td>\n",
       "      <td>1</td>\n",
       "      <td>91.0</td>\n",
       "    </tr>\n",
       "    <tr>\n",
       "      <th>1</th>\n",
       "      <td>4</td>\n",
       "      <td>82</td>\n",
       "      <td>No</td>\n",
       "      <td>4</td>\n",
       "      <td>2</td>\n",
       "      <td>65.0</td>\n",
       "    </tr>\n",
       "    <tr>\n",
       "      <th>2</th>\n",
       "      <td>8</td>\n",
       "      <td>51</td>\n",
       "      <td>Yes</td>\n",
       "      <td>7</td>\n",
       "      <td>2</td>\n",
       "      <td>45.0</td>\n",
       "    </tr>\n",
       "    <tr>\n",
       "      <th>3</th>\n",
       "      <td>5</td>\n",
       "      <td>52</td>\n",
       "      <td>Yes</td>\n",
       "      <td>5</td>\n",
       "      <td>2</td>\n",
       "      <td>36.0</td>\n",
       "    </tr>\n",
       "    <tr>\n",
       "      <th>4</th>\n",
       "      <td>7</td>\n",
       "      <td>75</td>\n",
       "      <td>No</td>\n",
       "      <td>8</td>\n",
       "      <td>5</td>\n",
       "      <td>66.0</td>\n",
       "    </tr>\n",
       "  </tbody>\n",
       "</table>\n",
       "</div>"
      ],
      "text/plain": [
       "   Hours_Studied  Previous_Scores Extracurricular_Activities  Sleep_Hours  \\\n",
       "0              7               99                        Yes            9   \n",
       "1              4               82                         No            4   \n",
       "2              8               51                        Yes            7   \n",
       "3              5               52                        Yes            5   \n",
       "4              7               75                         No            8   \n",
       "\n",
       "   Sample_Question_Papers_Practiced  Performance_Index  \n",
       "0                                 1               91.0  \n",
       "1                                 2               65.0  \n",
       "2                                 2               45.0  \n",
       "3                                 2               36.0  \n",
       "4                                 5               66.0  "
      ]
     },
     "execution_count": 534,
     "metadata": {},
     "output_type": "execute_result"
    }
   ],
   "source": [
    "df.head()"
   ]
  },
  {
   "cell_type": "code",
   "execution_count": 535,
   "id": "f6488442-afc2-4dad-90b5-89bbf57df675",
   "metadata": {},
   "outputs": [
    {
     "data": {
      "text/plain": [
       "(9873, 6)"
      ]
     },
     "execution_count": 535,
     "metadata": {},
     "output_type": "execute_result"
    }
   ],
   "source": [
    "df.shape"
   ]
  },
  {
   "cell_type": "code",
   "execution_count": 536,
   "id": "d787706c-1c60-44c4-8137-672d6081dac2",
   "metadata": {},
   "outputs": [],
   "source": [
    "# Here Extracurricular_Activities has a object data type,\n",
    "# We need to convert it into numerical, for perform regression model\n",
    "# now we do encoding"
   ]
  },
  {
   "cell_type": "markdown",
   "id": "e8055561-04dd-477d-a260-03c1e94ba990",
   "metadata": {},
   "source": [
    "# Encoding"
   ]
  },
  {
   "cell_type": "code",
   "execution_count": 538,
   "id": "7a261f5e-e32f-41d6-9afa-765ac73de877",
   "metadata": {},
   "outputs": [],
   "source": [
    "from sklearn.preprocessing import LabelEncoder\n",
    "\n",
    "le = LabelEncoder()\n",
    "df['Extracurricular_Activities'] = le.fit_transform(df['Extracurricular_Activities'])"
   ]
  },
  {
   "cell_type": "code",
   "execution_count": 539,
   "id": "bcab0580-436d-4ccd-af11-0598074858e4",
   "metadata": {},
   "outputs": [
    {
     "data": {
      "text/html": [
       "<div>\n",
       "<style scoped>\n",
       "    .dataframe tbody tr th:only-of-type {\n",
       "        vertical-align: middle;\n",
       "    }\n",
       "\n",
       "    .dataframe tbody tr th {\n",
       "        vertical-align: top;\n",
       "    }\n",
       "\n",
       "    .dataframe thead th {\n",
       "        text-align: right;\n",
       "    }\n",
       "</style>\n",
       "<table border=\"1\" class=\"dataframe\">\n",
       "  <thead>\n",
       "    <tr style=\"text-align: right;\">\n",
       "      <th></th>\n",
       "      <th>Hours_Studied</th>\n",
       "      <th>Previous_Scores</th>\n",
       "      <th>Extracurricular_Activities</th>\n",
       "      <th>Sleep_Hours</th>\n",
       "      <th>Sample_Question_Papers_Practiced</th>\n",
       "      <th>Performance_Index</th>\n",
       "    </tr>\n",
       "  </thead>\n",
       "  <tbody>\n",
       "    <tr>\n",
       "      <th>0</th>\n",
       "      <td>7</td>\n",
       "      <td>99</td>\n",
       "      <td>1</td>\n",
       "      <td>9</td>\n",
       "      <td>1</td>\n",
       "      <td>91.0</td>\n",
       "    </tr>\n",
       "    <tr>\n",
       "      <th>1</th>\n",
       "      <td>4</td>\n",
       "      <td>82</td>\n",
       "      <td>0</td>\n",
       "      <td>4</td>\n",
       "      <td>2</td>\n",
       "      <td>65.0</td>\n",
       "    </tr>\n",
       "    <tr>\n",
       "      <th>2</th>\n",
       "      <td>8</td>\n",
       "      <td>51</td>\n",
       "      <td>1</td>\n",
       "      <td>7</td>\n",
       "      <td>2</td>\n",
       "      <td>45.0</td>\n",
       "    </tr>\n",
       "    <tr>\n",
       "      <th>3</th>\n",
       "      <td>5</td>\n",
       "      <td>52</td>\n",
       "      <td>1</td>\n",
       "      <td>5</td>\n",
       "      <td>2</td>\n",
       "      <td>36.0</td>\n",
       "    </tr>\n",
       "    <tr>\n",
       "      <th>4</th>\n",
       "      <td>7</td>\n",
       "      <td>75</td>\n",
       "      <td>0</td>\n",
       "      <td>8</td>\n",
       "      <td>5</td>\n",
       "      <td>66.0</td>\n",
       "    </tr>\n",
       "  </tbody>\n",
       "</table>\n",
       "</div>"
      ],
      "text/plain": [
       "   Hours_Studied  Previous_Scores  Extracurricular_Activities  Sleep_Hours  \\\n",
       "0              7               99                           1            9   \n",
       "1              4               82                           0            4   \n",
       "2              8               51                           1            7   \n",
       "3              5               52                           1            5   \n",
       "4              7               75                           0            8   \n",
       "\n",
       "   Sample_Question_Papers_Practiced  Performance_Index  \n",
       "0                                 1               91.0  \n",
       "1                                 2               65.0  \n",
       "2                                 2               45.0  \n",
       "3                                 2               36.0  \n",
       "4                                 5               66.0  "
      ]
     },
     "execution_count": 539,
     "metadata": {},
     "output_type": "execute_result"
    }
   ],
   "source": [
    "df.head()"
   ]
  },
  {
   "cell_type": "markdown",
   "id": "b0510b49-2b70-45bc-9bf2-b7e8d00cd803",
   "metadata": {},
   "source": [
    "# Scalling"
   ]
  },
  {
   "cell_type": "code",
   "execution_count": 542,
   "id": "2046e086-d8d2-4137-8837-407eefbf5810",
   "metadata": {},
   "outputs": [
    {
     "name": "stdout",
     "output_type": "stream",
     "text": [
      "0       91.0\n",
      "1       65.0\n",
      "2       45.0\n",
      "3       36.0\n",
      "4       66.0\n",
      "        ... \n",
      "9995    23.0\n",
      "9996    58.0\n",
      "9997    74.0\n",
      "9998    95.0\n",
      "9999    64.0\n",
      "Name: Performance_Index, Length: 9873, dtype: float64\n"
     ]
    },
    {
     "data": {
      "text/html": [
       "<div>\n",
       "<style scoped>\n",
       "    .dataframe tbody tr th:only-of-type {\n",
       "        vertical-align: middle;\n",
       "    }\n",
       "\n",
       "    .dataframe tbody tr th {\n",
       "        vertical-align: top;\n",
       "    }\n",
       "\n",
       "    .dataframe thead th {\n",
       "        text-align: right;\n",
       "    }\n",
       "</style>\n",
       "<table border=\"1\" class=\"dataframe\">\n",
       "  <thead>\n",
       "    <tr style=\"text-align: right;\">\n",
       "      <th></th>\n",
       "      <th>Hours_Studied</th>\n",
       "      <th>Previous_Scores</th>\n",
       "      <th>Extracurricular_Activities</th>\n",
       "      <th>Sleep_Hours</th>\n",
       "      <th>Sample_Question_Papers_Practiced</th>\n",
       "    </tr>\n",
       "  </thead>\n",
       "  <tbody>\n",
       "    <tr>\n",
       "      <th>0</th>\n",
       "      <td>7</td>\n",
       "      <td>99</td>\n",
       "      <td>1</td>\n",
       "      <td>9</td>\n",
       "      <td>1</td>\n",
       "    </tr>\n",
       "    <tr>\n",
       "      <th>1</th>\n",
       "      <td>4</td>\n",
       "      <td>82</td>\n",
       "      <td>0</td>\n",
       "      <td>4</td>\n",
       "      <td>2</td>\n",
       "    </tr>\n",
       "    <tr>\n",
       "      <th>2</th>\n",
       "      <td>8</td>\n",
       "      <td>51</td>\n",
       "      <td>1</td>\n",
       "      <td>7</td>\n",
       "      <td>2</td>\n",
       "    </tr>\n",
       "    <tr>\n",
       "      <th>3</th>\n",
       "      <td>5</td>\n",
       "      <td>52</td>\n",
       "      <td>1</td>\n",
       "      <td>5</td>\n",
       "      <td>2</td>\n",
       "    </tr>\n",
       "    <tr>\n",
       "      <th>4</th>\n",
       "      <td>7</td>\n",
       "      <td>75</td>\n",
       "      <td>0</td>\n",
       "      <td>8</td>\n",
       "      <td>5</td>\n",
       "    </tr>\n",
       "    <tr>\n",
       "      <th>...</th>\n",
       "      <td>...</td>\n",
       "      <td>...</td>\n",
       "      <td>...</td>\n",
       "      <td>...</td>\n",
       "      <td>...</td>\n",
       "    </tr>\n",
       "    <tr>\n",
       "      <th>9995</th>\n",
       "      <td>1</td>\n",
       "      <td>49</td>\n",
       "      <td>1</td>\n",
       "      <td>4</td>\n",
       "      <td>2</td>\n",
       "    </tr>\n",
       "    <tr>\n",
       "      <th>9996</th>\n",
       "      <td>7</td>\n",
       "      <td>64</td>\n",
       "      <td>1</td>\n",
       "      <td>8</td>\n",
       "      <td>5</td>\n",
       "    </tr>\n",
       "    <tr>\n",
       "      <th>9997</th>\n",
       "      <td>6</td>\n",
       "      <td>83</td>\n",
       "      <td>1</td>\n",
       "      <td>8</td>\n",
       "      <td>5</td>\n",
       "    </tr>\n",
       "    <tr>\n",
       "      <th>9998</th>\n",
       "      <td>9</td>\n",
       "      <td>97</td>\n",
       "      <td>1</td>\n",
       "      <td>7</td>\n",
       "      <td>0</td>\n",
       "    </tr>\n",
       "    <tr>\n",
       "      <th>9999</th>\n",
       "      <td>7</td>\n",
       "      <td>74</td>\n",
       "      <td>0</td>\n",
       "      <td>8</td>\n",
       "      <td>1</td>\n",
       "    </tr>\n",
       "  </tbody>\n",
       "</table>\n",
       "<p>9873 rows × 5 columns</p>\n",
       "</div>"
      ],
      "text/plain": [
       "      Hours_Studied  Previous_Scores  Extracurricular_Activities  Sleep_Hours  \\\n",
       "0                 7               99                           1            9   \n",
       "1                 4               82                           0            4   \n",
       "2                 8               51                           1            7   \n",
       "3                 5               52                           1            5   \n",
       "4                 7               75                           0            8   \n",
       "...             ...              ...                         ...          ...   \n",
       "9995              1               49                           1            4   \n",
       "9996              7               64                           1            8   \n",
       "9997              6               83                           1            8   \n",
       "9998              9               97                           1            7   \n",
       "9999              7               74                           0            8   \n",
       "\n",
       "      Sample_Question_Papers_Practiced  \n",
       "0                                    1  \n",
       "1                                    2  \n",
       "2                                    2  \n",
       "3                                    2  \n",
       "4                                    5  \n",
       "...                                ...  \n",
       "9995                                 2  \n",
       "9996                                 5  \n",
       "9997                                 5  \n",
       "9998                                 0  \n",
       "9999                                 1  \n",
       "\n",
       "[9873 rows x 5 columns]"
      ]
     },
     "execution_count": 542,
     "metadata": {},
     "output_type": "execute_result"
    }
   ],
   "source": [
    "x_df = df.iloc[:,0:5]\n",
    "y = df.iloc[:,5]\n",
    "print(y)\n",
    "x_df"
   ]
  },
  {
   "cell_type": "code",
   "execution_count": 543,
   "id": "1af05fab-bf49-48f9-a120-56b1185e80c6",
   "metadata": {},
   "outputs": [],
   "source": [
    "from sklearn.preprocessing import StandardScaler\n",
    "ss = StandardScaler()\n",
    "x_df = ss.fit_transform(x_df)"
   ]
  },
  {
   "cell_type": "code",
   "execution_count": 545,
   "id": "011c73b0-ba18-4713-b17d-7350cb1b985d",
   "metadata": {},
   "outputs": [
    {
     "data": {
      "text/plain": [
       "array([[ 0.77556551,  1.7061685 ,  1.01007813,  1.45402483, -1.24971491],\n",
       "       [-0.38320542,  0.72491187, -0.99002243, -1.49131517, -0.90092522],\n",
       "       [ 1.16182248, -1.06443844,  1.01007813,  0.27588883, -0.90092522],\n",
       "       ...,\n",
       "       [ 0.38930853,  0.78263285,  1.01007813,  0.86495683,  0.14544385],\n",
       "       [ 1.54807946,  1.59072654,  1.01007813,  0.27588883, -1.59850461],\n",
       "       [ 0.77556551,  0.26314405, -0.99002243,  0.86495683, -1.24971491]])"
      ]
     },
     "execution_count": 545,
     "metadata": {},
     "output_type": "execute_result"
    }
   ],
   "source": [
    "x_df"
   ]
  },
  {
   "cell_type": "code",
   "execution_count": 546,
   "id": "60cdbe77-fb20-4140-aa10-54c18d163f0f",
   "metadata": {},
   "outputs": [],
   "source": [
    "data = pd.DataFrame(x_df)"
   ]
  },
  {
   "cell_type": "code",
   "execution_count": 548,
   "id": "672720b6-2a52-4e67-83ad-6e7a4efb3f95",
   "metadata": {},
   "outputs": [
    {
     "data": {
      "text/html": [
       "<div>\n",
       "<style scoped>\n",
       "    .dataframe tbody tr th:only-of-type {\n",
       "        vertical-align: middle;\n",
       "    }\n",
       "\n",
       "    .dataframe tbody tr th {\n",
       "        vertical-align: top;\n",
       "    }\n",
       "\n",
       "    .dataframe thead th {\n",
       "        text-align: right;\n",
       "    }\n",
       "</style>\n",
       "<table border=\"1\" class=\"dataframe\">\n",
       "  <thead>\n",
       "    <tr style=\"text-align: right;\">\n",
       "      <th></th>\n",
       "      <th>0</th>\n",
       "      <th>1</th>\n",
       "      <th>2</th>\n",
       "      <th>3</th>\n",
       "      <th>4</th>\n",
       "    </tr>\n",
       "  </thead>\n",
       "  <tbody>\n",
       "    <tr>\n",
       "      <th>0</th>\n",
       "      <td>0.775566</td>\n",
       "      <td>1.706168</td>\n",
       "      <td>1.010078</td>\n",
       "      <td>1.454025</td>\n",
       "      <td>-1.249715</td>\n",
       "    </tr>\n",
       "    <tr>\n",
       "      <th>1</th>\n",
       "      <td>-0.383205</td>\n",
       "      <td>0.724912</td>\n",
       "      <td>-0.990022</td>\n",
       "      <td>-1.491315</td>\n",
       "      <td>-0.900925</td>\n",
       "    </tr>\n",
       "    <tr>\n",
       "      <th>2</th>\n",
       "      <td>1.161822</td>\n",
       "      <td>-1.064438</td>\n",
       "      <td>1.010078</td>\n",
       "      <td>0.275889</td>\n",
       "      <td>-0.900925</td>\n",
       "    </tr>\n",
       "    <tr>\n",
       "      <th>3</th>\n",
       "      <td>0.003052</td>\n",
       "      <td>-1.006717</td>\n",
       "      <td>1.010078</td>\n",
       "      <td>-0.902247</td>\n",
       "      <td>-0.900925</td>\n",
       "    </tr>\n",
       "    <tr>\n",
       "      <th>4</th>\n",
       "      <td>0.775566</td>\n",
       "      <td>0.320865</td>\n",
       "      <td>-0.990022</td>\n",
       "      <td>0.864957</td>\n",
       "      <td>0.145444</td>\n",
       "    </tr>\n",
       "  </tbody>\n",
       "</table>\n",
       "</div>"
      ],
      "text/plain": [
       "          0         1         2         3         4\n",
       "0  0.775566  1.706168  1.010078  1.454025 -1.249715\n",
       "1 -0.383205  0.724912 -0.990022 -1.491315 -0.900925\n",
       "2  1.161822 -1.064438  1.010078  0.275889 -0.900925\n",
       "3  0.003052 -1.006717  1.010078 -0.902247 -0.900925\n",
       "4  0.775566  0.320865 -0.990022  0.864957  0.145444"
      ]
     },
     "execution_count": 548,
     "metadata": {},
     "output_type": "execute_result"
    }
   ],
   "source": [
    "data.head()"
   ]
  },
  {
   "cell_type": "code",
   "execution_count": 549,
   "id": "b04e8ea8-d7b4-4df7-b88b-093181dc7bbd",
   "metadata": {},
   "outputs": [
    {
     "data": {
      "text/html": [
       "<div>\n",
       "<style scoped>\n",
       "    .dataframe tbody tr th:only-of-type {\n",
       "        vertical-align: middle;\n",
       "    }\n",
       "\n",
       "    .dataframe tbody tr th {\n",
       "        vertical-align: top;\n",
       "    }\n",
       "\n",
       "    .dataframe thead th {\n",
       "        text-align: right;\n",
       "    }\n",
       "</style>\n",
       "<table border=\"1\" class=\"dataframe\">\n",
       "  <thead>\n",
       "    <tr style=\"text-align: right;\">\n",
       "      <th></th>\n",
       "      <th>Hours_Studied</th>\n",
       "      <th>Previous_Scores</th>\n",
       "      <th>Extracurricular_Activities</th>\n",
       "      <th>Sleep_Hours</th>\n",
       "      <th>Sample_Question_Papers_Practiced</th>\n",
       "    </tr>\n",
       "  </thead>\n",
       "  <tbody>\n",
       "    <tr>\n",
       "      <th>0</th>\n",
       "      <td>0.775566</td>\n",
       "      <td>1.706168</td>\n",
       "      <td>1.010078</td>\n",
       "      <td>1.454025</td>\n",
       "      <td>-1.249715</td>\n",
       "    </tr>\n",
       "    <tr>\n",
       "      <th>1</th>\n",
       "      <td>-0.383205</td>\n",
       "      <td>0.724912</td>\n",
       "      <td>-0.990022</td>\n",
       "      <td>-1.491315</td>\n",
       "      <td>-0.900925</td>\n",
       "    </tr>\n",
       "    <tr>\n",
       "      <th>2</th>\n",
       "      <td>1.161822</td>\n",
       "      <td>-1.064438</td>\n",
       "      <td>1.010078</td>\n",
       "      <td>0.275889</td>\n",
       "      <td>-0.900925</td>\n",
       "    </tr>\n",
       "    <tr>\n",
       "      <th>3</th>\n",
       "      <td>0.003052</td>\n",
       "      <td>-1.006717</td>\n",
       "      <td>1.010078</td>\n",
       "      <td>-0.902247</td>\n",
       "      <td>-0.900925</td>\n",
       "    </tr>\n",
       "    <tr>\n",
       "      <th>4</th>\n",
       "      <td>0.775566</td>\n",
       "      <td>0.320865</td>\n",
       "      <td>-0.990022</td>\n",
       "      <td>0.864957</td>\n",
       "      <td>0.145444</td>\n",
       "    </tr>\n",
       "  </tbody>\n",
       "</table>\n",
       "</div>"
      ],
      "text/plain": [
       "   Hours_Studied  Previous_Scores  Extracurricular_Activities  Sleep_Hours  \\\n",
       "0       0.775566         1.706168                    1.010078     1.454025   \n",
       "1      -0.383205         0.724912                   -0.990022    -1.491315   \n",
       "2       1.161822        -1.064438                    1.010078     0.275889   \n",
       "3       0.003052        -1.006717                    1.010078    -0.902247   \n",
       "4       0.775566         0.320865                   -0.990022     0.864957   \n",
       "\n",
       "   Sample_Question_Papers_Practiced  \n",
       "0                         -1.249715  \n",
       "1                         -0.900925  \n",
       "2                         -0.900925  \n",
       "3                         -0.900925  \n",
       "4                          0.145444  "
      ]
     },
     "execution_count": 549,
     "metadata": {},
     "output_type": "execute_result"
    }
   ],
   "source": [
    "data.columns = ['Hours_Studied','Previous_Scores','Extracurricular_Activities','Sleep_Hours','Sample_Question_Papers_Practiced']\n",
    "data.head()"
   ]
  },
  {
   "cell_type": "markdown",
   "id": "b8624c77-8304-4e6b-898c-d6892bc75dea",
   "metadata": {},
   "source": [
    "# Feature Selection"
   ]
  },
  {
   "cell_type": "markdown",
   "id": "f9cd22ed-5cc2-4286-81cc-051b0a353a27",
   "metadata": {},
   "source": [
    "- Fitter Method -  SelectKBest\n",
    "- Wrapper Method - RFE\n"
   ]
  },
  {
   "cell_type": "code",
   "execution_count": 552,
   "id": "d6afa175-d2fb-4cbb-8138-eabf029a2d83",
   "metadata": {},
   "outputs": [],
   "source": [
    "from sklearn.feature_selection import SelectKBest,f_regression"
   ]
  },
  {
   "cell_type": "code",
   "execution_count": 553,
   "id": "fe62b6b5-cfc6-45f5-9186-68e5a6ef04fa",
   "metadata": {},
   "outputs": [
    {
     "data": {
      "text/html": [
       "<style>#sk-container-id-8 {color: black;background-color: white;}#sk-container-id-8 pre{padding: 0;}#sk-container-id-8 div.sk-toggleable {background-color: white;}#sk-container-id-8 label.sk-toggleable__label {cursor: pointer;display: block;width: 100%;margin-bottom: 0;padding: 0.3em;box-sizing: border-box;text-align: center;}#sk-container-id-8 label.sk-toggleable__label-arrow:before {content: \"▸\";float: left;margin-right: 0.25em;color: #696969;}#sk-container-id-8 label.sk-toggleable__label-arrow:hover:before {color: black;}#sk-container-id-8 div.sk-estimator:hover label.sk-toggleable__label-arrow:before {color: black;}#sk-container-id-8 div.sk-toggleable__content {max-height: 0;max-width: 0;overflow: hidden;text-align: left;background-color: #f0f8ff;}#sk-container-id-8 div.sk-toggleable__content pre {margin: 0.2em;color: black;border-radius: 0.25em;background-color: #f0f8ff;}#sk-container-id-8 input.sk-toggleable__control:checked~div.sk-toggleable__content {max-height: 200px;max-width: 100%;overflow: auto;}#sk-container-id-8 input.sk-toggleable__control:checked~label.sk-toggleable__label-arrow:before {content: \"▾\";}#sk-container-id-8 div.sk-estimator input.sk-toggleable__control:checked~label.sk-toggleable__label {background-color: #d4ebff;}#sk-container-id-8 div.sk-label input.sk-toggleable__control:checked~label.sk-toggleable__label {background-color: #d4ebff;}#sk-container-id-8 input.sk-hidden--visually {border: 0;clip: rect(1px 1px 1px 1px);clip: rect(1px, 1px, 1px, 1px);height: 1px;margin: -1px;overflow: hidden;padding: 0;position: absolute;width: 1px;}#sk-container-id-8 div.sk-estimator {font-family: monospace;background-color: #f0f8ff;border: 1px dotted black;border-radius: 0.25em;box-sizing: border-box;margin-bottom: 0.5em;}#sk-container-id-8 div.sk-estimator:hover {background-color: #d4ebff;}#sk-container-id-8 div.sk-parallel-item::after {content: \"\";width: 100%;border-bottom: 1px solid gray;flex-grow: 1;}#sk-container-id-8 div.sk-label:hover label.sk-toggleable__label {background-color: #d4ebff;}#sk-container-id-8 div.sk-serial::before {content: \"\";position: absolute;border-left: 1px solid gray;box-sizing: border-box;top: 0;bottom: 0;left: 50%;z-index: 0;}#sk-container-id-8 div.sk-serial {display: flex;flex-direction: column;align-items: center;background-color: white;padding-right: 0.2em;padding-left: 0.2em;position: relative;}#sk-container-id-8 div.sk-item {position: relative;z-index: 1;}#sk-container-id-8 div.sk-parallel {display: flex;align-items: stretch;justify-content: center;background-color: white;position: relative;}#sk-container-id-8 div.sk-item::before, #sk-container-id-8 div.sk-parallel-item::before {content: \"\";position: absolute;border-left: 1px solid gray;box-sizing: border-box;top: 0;bottom: 0;left: 50%;z-index: -1;}#sk-container-id-8 div.sk-parallel-item {display: flex;flex-direction: column;z-index: 1;position: relative;background-color: white;}#sk-container-id-8 div.sk-parallel-item:first-child::after {align-self: flex-end;width: 50%;}#sk-container-id-8 div.sk-parallel-item:last-child::after {align-self: flex-start;width: 50%;}#sk-container-id-8 div.sk-parallel-item:only-child::after {width: 0;}#sk-container-id-8 div.sk-dashed-wrapped {border: 1px dashed gray;margin: 0 0.4em 0.5em 0.4em;box-sizing: border-box;padding-bottom: 0.4em;background-color: white;}#sk-container-id-8 div.sk-label label {font-family: monospace;font-weight: bold;display: inline-block;line-height: 1.2em;}#sk-container-id-8 div.sk-label-container {text-align: center;}#sk-container-id-8 div.sk-container {/* jupyter's `normalize.less` sets `[hidden] { display: none; }` but bootstrap.min.css set `[hidden] { display: none !important; }` so we also need the `!important` here to be able to override the default hidden behavior on the sphinx rendered scikit-learn.org. See: https://github.com/scikit-learn/scikit-learn/issues/21755 */display: inline-block !important;position: relative;}#sk-container-id-8 div.sk-text-repr-fallback {display: none;}</style><div id=\"sk-container-id-8\" class=\"sk-top-container\"><div class=\"sk-text-repr-fallback\"><pre>SelectKBest(k=&#x27;all&#x27;, score_func=&lt;function f_regression at 0x0000025981501BC0&gt;)</pre><b>In a Jupyter environment, please rerun this cell to show the HTML representation or trust the notebook. <br />On GitHub, the HTML representation is unable to render, please try loading this page with nbviewer.org.</b></div><div class=\"sk-container\" hidden><div class=\"sk-item\"><div class=\"sk-estimator sk-toggleable\"><input class=\"sk-toggleable__control sk-hidden--visually\" id=\"sk-estimator-id-12\" type=\"checkbox\" checked><label for=\"sk-estimator-id-12\" class=\"sk-toggleable__label sk-toggleable__label-arrow\">SelectKBest</label><div class=\"sk-toggleable__content\"><pre>SelectKBest(k=&#x27;all&#x27;, score_func=&lt;function f_regression at 0x0000025981501BC0&gt;)</pre></div></div></div></div></div>"
      ],
      "text/plain": [
       "SelectKBest(k='all', score_func=<function f_regression at 0x0000025981501BC0>)"
      ]
     },
     "execution_count": 553,
     "metadata": {},
     "output_type": "execute_result"
    }
   ],
   "source": [
    "selector = SelectKBest(score_func=f_regression, k ='all')\n",
    "selector.fit(data,y)"
   ]
  },
  {
   "cell_type": "code",
   "execution_count": 555,
   "id": "391ead6f-5717-4bd8-8cea-7db6684a1630",
   "metadata": {},
   "outputs": [],
   "source": [
    "feat_scores = pd.DataFrame(\n",
    "    data = { 'Feature':data.columns,\n",
    "            'score':selector.scores_})"
   ]
  },
  {
   "cell_type": "code",
   "execution_count": 557,
   "id": "f3b68183-4d55-4628-8c01-d250168d74cf",
   "metadata": {},
   "outputs": [
    {
     "data": {
      "text/html": [
       "<div>\n",
       "<style scoped>\n",
       "    .dataframe tbody tr th:only-of-type {\n",
       "        vertical-align: middle;\n",
       "    }\n",
       "\n",
       "    .dataframe tbody tr th {\n",
       "        vertical-align: top;\n",
       "    }\n",
       "\n",
       "    .dataframe thead th {\n",
       "        text-align: right;\n",
       "    }\n",
       "</style>\n",
       "<table border=\"1\" class=\"dataframe\">\n",
       "  <thead>\n",
       "    <tr style=\"text-align: right;\">\n",
       "      <th></th>\n",
       "      <th>Feature</th>\n",
       "      <th>score</th>\n",
       "    </tr>\n",
       "  </thead>\n",
       "  <tbody>\n",
       "    <tr>\n",
       "      <th>0</th>\n",
       "      <td>Hours_Studied</td>\n",
       "      <td>1618.585346</td>\n",
       "    </tr>\n",
       "    <tr>\n",
       "      <th>1</th>\n",
       "      <td>Previous_Scores</td>\n",
       "      <td>50863.230088</td>\n",
       "    </tr>\n",
       "    <tr>\n",
       "      <th>2</th>\n",
       "      <td>Extracurricular_Activities</td>\n",
       "      <td>6.715704</td>\n",
       "    </tr>\n",
       "    <tr>\n",
       "      <th>3</th>\n",
       "      <td>Sleep_Hours</td>\n",
       "      <td>25.090267</td>\n",
       "    </tr>\n",
       "    <tr>\n",
       "      <th>4</th>\n",
       "      <td>Sample_Question_Papers_Practiced</td>\n",
       "      <td>18.658435</td>\n",
       "    </tr>\n",
       "  </tbody>\n",
       "</table>\n",
       "</div>"
      ],
      "text/plain": [
       "                            Feature         score\n",
       "0                     Hours_Studied   1618.585346\n",
       "1                   Previous_Scores  50863.230088\n",
       "2        Extracurricular_Activities      6.715704\n",
       "3                       Sleep_Hours     25.090267\n",
       "4  Sample_Question_Papers_Practiced     18.658435"
      ]
     },
     "execution_count": 557,
     "metadata": {},
     "output_type": "execute_result"
    }
   ],
   "source": [
    "feat_scores"
   ]
  },
  {
   "cell_type": "code",
   "execution_count": 561,
   "id": "0b0d5dde-e4e9-416d-ad81-2d43fbd4b17c",
   "metadata": {},
   "outputs": [],
   "source": [
    "d1 = feat_scores.sort_values(by = 'score',ascending = False).reset_index()"
   ]
  },
  {
   "cell_type": "code",
   "execution_count": 563,
   "id": "d1041d24-7312-408d-8864-316c0467b5a0",
   "metadata": {},
   "outputs": [],
   "source": [
    "d1 = d1.drop('index',axis = 1)"
   ]
  },
  {
   "cell_type": "code",
   "execution_count": 566,
   "id": "e523d2ac-9f7e-4364-993d-36a2ec6bbf1b",
   "metadata": {},
   "outputs": [
    {
     "data": {
      "text/html": [
       "<div>\n",
       "<style scoped>\n",
       "    .dataframe tbody tr th:only-of-type {\n",
       "        vertical-align: middle;\n",
       "    }\n",
       "\n",
       "    .dataframe tbody tr th {\n",
       "        vertical-align: top;\n",
       "    }\n",
       "\n",
       "    .dataframe thead th {\n",
       "        text-align: right;\n",
       "    }\n",
       "</style>\n",
       "<table border=\"1\" class=\"dataframe\">\n",
       "  <thead>\n",
       "    <tr style=\"text-align: right;\">\n",
       "      <th></th>\n",
       "      <th>Feature</th>\n",
       "      <th>score</th>\n",
       "    </tr>\n",
       "  </thead>\n",
       "  <tbody>\n",
       "    <tr>\n",
       "      <th>0</th>\n",
       "      <td>Previous_Scores</td>\n",
       "      <td>50863.230088</td>\n",
       "    </tr>\n",
       "    <tr>\n",
       "      <th>1</th>\n",
       "      <td>Hours_Studied</td>\n",
       "      <td>1618.585346</td>\n",
       "    </tr>\n",
       "    <tr>\n",
       "      <th>2</th>\n",
       "      <td>Sleep_Hours</td>\n",
       "      <td>25.090267</td>\n",
       "    </tr>\n",
       "    <tr>\n",
       "      <th>3</th>\n",
       "      <td>Sample_Question_Papers_Practiced</td>\n",
       "      <td>18.658435</td>\n",
       "    </tr>\n",
       "    <tr>\n",
       "      <th>4</th>\n",
       "      <td>Extracurricular_Activities</td>\n",
       "      <td>6.715704</td>\n",
       "    </tr>\n",
       "  </tbody>\n",
       "</table>\n",
       "</div>"
      ],
      "text/plain": [
       "                            Feature         score\n",
       "0                   Previous_Scores  50863.230088\n",
       "1                     Hours_Studied   1618.585346\n",
       "2                       Sleep_Hours     25.090267\n",
       "3  Sample_Question_Papers_Practiced     18.658435\n",
       "4        Extracurricular_Activities      6.715704"
      ]
     },
     "execution_count": 566,
     "metadata": {},
     "output_type": "execute_result"
    }
   ],
   "source": [
    "d1"
   ]
  },
  {
   "cell_type": "code",
   "execution_count": 569,
   "id": "34be4b1d-fee9-4fed-be66-85b29a89483d",
   "metadata": {},
   "outputs": [],
   "source": [
    "#- Observations\n",
    "# As per the SelectKBest, we eleminate low scores,\n",
    "# from the above, Dataframe We observe, Extracurricular_Activites has got low score"
   ]
  },
  {
   "cell_type": "code",
   "execution_count": 570,
   "id": "e2e5ed12-7c4a-4426-8c02-541c1171a71d",
   "metadata": {},
   "outputs": [],
   "source": [
    "# wrapper method (Recursive feature Elimination)"
   ]
  },
  {
   "cell_type": "code",
   "execution_count": 571,
   "id": "09fe2235-ad47-4d78-bc62-4da5e7425b77",
   "metadata": {},
   "outputs": [],
   "source": [
    "from sklearn.feature_selection import RFE\n",
    "from sklearn.linear_model import LinearRegression"
   ]
  },
  {
   "cell_type": "code",
   "execution_count": 572,
   "id": "1424eddb-51ee-4465-900e-6cfdacf5ca91",
   "metadata": {},
   "outputs": [],
   "source": [
    "model =LinearRegression()"
   ]
  },
  {
   "cell_type": "code",
   "execution_count": 573,
   "id": "40fc87d1-5b31-4b6d-89a2-f9e286334fb7",
   "metadata": {},
   "outputs": [],
   "source": [
    "rfe = RFE(estimator = model, n_features_to_select = 4)"
   ]
  },
  {
   "cell_type": "code",
   "execution_count": 576,
   "id": "13816d27-98ca-483e-bb13-bf4dbc3e85b1",
   "metadata": {},
   "outputs": [
    {
     "data": {
      "text/html": [
       "<style>#sk-container-id-9 {color: black;background-color: white;}#sk-container-id-9 pre{padding: 0;}#sk-container-id-9 div.sk-toggleable {background-color: white;}#sk-container-id-9 label.sk-toggleable__label {cursor: pointer;display: block;width: 100%;margin-bottom: 0;padding: 0.3em;box-sizing: border-box;text-align: center;}#sk-container-id-9 label.sk-toggleable__label-arrow:before {content: \"▸\";float: left;margin-right: 0.25em;color: #696969;}#sk-container-id-9 label.sk-toggleable__label-arrow:hover:before {color: black;}#sk-container-id-9 div.sk-estimator:hover label.sk-toggleable__label-arrow:before {color: black;}#sk-container-id-9 div.sk-toggleable__content {max-height: 0;max-width: 0;overflow: hidden;text-align: left;background-color: #f0f8ff;}#sk-container-id-9 div.sk-toggleable__content pre {margin: 0.2em;color: black;border-radius: 0.25em;background-color: #f0f8ff;}#sk-container-id-9 input.sk-toggleable__control:checked~div.sk-toggleable__content {max-height: 200px;max-width: 100%;overflow: auto;}#sk-container-id-9 input.sk-toggleable__control:checked~label.sk-toggleable__label-arrow:before {content: \"▾\";}#sk-container-id-9 div.sk-estimator input.sk-toggleable__control:checked~label.sk-toggleable__label {background-color: #d4ebff;}#sk-container-id-9 div.sk-label input.sk-toggleable__control:checked~label.sk-toggleable__label {background-color: #d4ebff;}#sk-container-id-9 input.sk-hidden--visually {border: 0;clip: rect(1px 1px 1px 1px);clip: rect(1px, 1px, 1px, 1px);height: 1px;margin: -1px;overflow: hidden;padding: 0;position: absolute;width: 1px;}#sk-container-id-9 div.sk-estimator {font-family: monospace;background-color: #f0f8ff;border: 1px dotted black;border-radius: 0.25em;box-sizing: border-box;margin-bottom: 0.5em;}#sk-container-id-9 div.sk-estimator:hover {background-color: #d4ebff;}#sk-container-id-9 div.sk-parallel-item::after {content: \"\";width: 100%;border-bottom: 1px solid gray;flex-grow: 1;}#sk-container-id-9 div.sk-label:hover label.sk-toggleable__label {background-color: #d4ebff;}#sk-container-id-9 div.sk-serial::before {content: \"\";position: absolute;border-left: 1px solid gray;box-sizing: border-box;top: 0;bottom: 0;left: 50%;z-index: 0;}#sk-container-id-9 div.sk-serial {display: flex;flex-direction: column;align-items: center;background-color: white;padding-right: 0.2em;padding-left: 0.2em;position: relative;}#sk-container-id-9 div.sk-item {position: relative;z-index: 1;}#sk-container-id-9 div.sk-parallel {display: flex;align-items: stretch;justify-content: center;background-color: white;position: relative;}#sk-container-id-9 div.sk-item::before, #sk-container-id-9 div.sk-parallel-item::before {content: \"\";position: absolute;border-left: 1px solid gray;box-sizing: border-box;top: 0;bottom: 0;left: 50%;z-index: -1;}#sk-container-id-9 div.sk-parallel-item {display: flex;flex-direction: column;z-index: 1;position: relative;background-color: white;}#sk-container-id-9 div.sk-parallel-item:first-child::after {align-self: flex-end;width: 50%;}#sk-container-id-9 div.sk-parallel-item:last-child::after {align-self: flex-start;width: 50%;}#sk-container-id-9 div.sk-parallel-item:only-child::after {width: 0;}#sk-container-id-9 div.sk-dashed-wrapped {border: 1px dashed gray;margin: 0 0.4em 0.5em 0.4em;box-sizing: border-box;padding-bottom: 0.4em;background-color: white;}#sk-container-id-9 div.sk-label label {font-family: monospace;font-weight: bold;display: inline-block;line-height: 1.2em;}#sk-container-id-9 div.sk-label-container {text-align: center;}#sk-container-id-9 div.sk-container {/* jupyter's `normalize.less` sets `[hidden] { display: none; }` but bootstrap.min.css set `[hidden] { display: none !important; }` so we also need the `!important` here to be able to override the default hidden behavior on the sphinx rendered scikit-learn.org. See: https://github.com/scikit-learn/scikit-learn/issues/21755 */display: inline-block !important;position: relative;}#sk-container-id-9 div.sk-text-repr-fallback {display: none;}</style><div id=\"sk-container-id-9\" class=\"sk-top-container\"><div class=\"sk-text-repr-fallback\"><pre>RFE(estimator=LinearRegression(), n_features_to_select=4)</pre><b>In a Jupyter environment, please rerun this cell to show the HTML representation or trust the notebook. <br />On GitHub, the HTML representation is unable to render, please try loading this page with nbviewer.org.</b></div><div class=\"sk-container\" hidden><div class=\"sk-item sk-dashed-wrapped\"><div class=\"sk-label-container\"><div class=\"sk-label sk-toggleable\"><input class=\"sk-toggleable__control sk-hidden--visually\" id=\"sk-estimator-id-13\" type=\"checkbox\" ><label for=\"sk-estimator-id-13\" class=\"sk-toggleable__label sk-toggleable__label-arrow\">RFE</label><div class=\"sk-toggleable__content\"><pre>RFE(estimator=LinearRegression(), n_features_to_select=4)</pre></div></div></div><div class=\"sk-parallel\"><div class=\"sk-parallel-item\"><div class=\"sk-item\"><div class=\"sk-label-container\"><div class=\"sk-label sk-toggleable\"><input class=\"sk-toggleable__control sk-hidden--visually\" id=\"sk-estimator-id-14\" type=\"checkbox\" ><label for=\"sk-estimator-id-14\" class=\"sk-toggleable__label sk-toggleable__label-arrow\">estimator: LinearRegression</label><div class=\"sk-toggleable__content\"><pre>LinearRegression()</pre></div></div></div><div class=\"sk-serial\"><div class=\"sk-item\"><div class=\"sk-estimator sk-toggleable\"><input class=\"sk-toggleable__control sk-hidden--visually\" id=\"sk-estimator-id-15\" type=\"checkbox\" ><label for=\"sk-estimator-id-15\" class=\"sk-toggleable__label sk-toggleable__label-arrow\">LinearRegression</label><div class=\"sk-toggleable__content\"><pre>LinearRegression()</pre></div></div></div></div></div></div></div></div></div></div>"
      ],
      "text/plain": [
       "RFE(estimator=LinearRegression(), n_features_to_select=4)"
      ]
     },
     "execution_count": 576,
     "metadata": {},
     "output_type": "execute_result"
    }
   ],
   "source": [
    "rfe.fit(data,y)"
   ]
  },
  {
   "cell_type": "code",
   "execution_count": 578,
   "id": "a82809bc-a6e6-4714-8f81-28232128d637",
   "metadata": {},
   "outputs": [
    {
     "data": {
      "text/html": [
       "<div>\n",
       "<style scoped>\n",
       "    .dataframe tbody tr th:only-of-type {\n",
       "        vertical-align: middle;\n",
       "    }\n",
       "\n",
       "    .dataframe tbody tr th {\n",
       "        vertical-align: top;\n",
       "    }\n",
       "\n",
       "    .dataframe thead th {\n",
       "        text-align: right;\n",
       "    }\n",
       "</style>\n",
       "<table border=\"1\" class=\"dataframe\">\n",
       "  <thead>\n",
       "    <tr style=\"text-align: right;\">\n",
       "      <th></th>\n",
       "      <th>Feature</th>\n",
       "      <th>Ranking</th>\n",
       "    </tr>\n",
       "  </thead>\n",
       "  <tbody>\n",
       "    <tr>\n",
       "      <th>0</th>\n",
       "      <td>Hours_Studied</td>\n",
       "      <td>1</td>\n",
       "    </tr>\n",
       "    <tr>\n",
       "      <th>1</th>\n",
       "      <td>Previous_Scores</td>\n",
       "      <td>1</td>\n",
       "    </tr>\n",
       "    <tr>\n",
       "      <th>2</th>\n",
       "      <td>Extracurricular_Activities</td>\n",
       "      <td>2</td>\n",
       "    </tr>\n",
       "    <tr>\n",
       "      <th>3</th>\n",
       "      <td>Sleep_Hours</td>\n",
       "      <td>1</td>\n",
       "    </tr>\n",
       "    <tr>\n",
       "      <th>4</th>\n",
       "      <td>Sample_Question_Papers_Practiced</td>\n",
       "      <td>1</td>\n",
       "    </tr>\n",
       "  </tbody>\n",
       "</table>\n",
       "</div>"
      ],
      "text/plain": [
       "                            Feature  Ranking\n",
       "0                     Hours_Studied        1\n",
       "1                   Previous_Scores        1\n",
       "2        Extracurricular_Activities        2\n",
       "3                       Sleep_Hours        1\n",
       "4  Sample_Question_Papers_Practiced        1"
      ]
     },
     "execution_count": 578,
     "metadata": {},
     "output_type": "execute_result"
    }
   ],
   "source": [
    "pd.DataFrame(data = {\n",
    "    'Feature':data.columns,\n",
    "    'Ranking':rfe.ranking_})"
   ]
  },
  {
   "cell_type": "markdown",
   "id": "e25be78e-1083-48bb-8e4c-b2817bd6a124",
   "metadata": {},
   "source": [
    " - Observations\n",
    " - we observe, Hours_studied,Previous_Scores,sleep_hours, Sample_questons_papers_practiced got 1 rank, \n",
    " - only Extracurricular activities got 2 rank"
   ]
  },
  {
   "cell_type": "code",
   "execution_count": 582,
   "id": "b6ca1610-ff78-419a-a43b-da4807c37a35",
   "metadata": {},
   "outputs": [],
   "source": [
    "from statsmodels.stats.outliers_influence import variance_inflation_factor"
   ]
  },
  {
   "cell_type": "code",
   "execution_count": 584,
   "id": "8a316594-abbc-45f4-acc6-eabc4da2d529",
   "metadata": {},
   "outputs": [],
   "source": [
    "import statsmodels.formula.api as smf"
   ]
  },
  {
   "cell_type": "code",
   "execution_count": 585,
   "id": "a811300c-571d-4004-864f-6fc5a4b1ee6d",
   "metadata": {},
   "outputs": [],
   "source": [
    "def vif_cal(z):\n",
    "    x_var = z\n",
    "    xvar_names = z.columns\n",
    "    vif = pd.DataFrame()\n",
    "    for i in range(0,xvar_names.shape[0]):\n",
    "        y=x_var[xvar_names[i]]\n",
    "        x=x_var[xvar_names.drop(xvar_names[i])]\n",
    "        rsq = smf.ols(formula = 'y~x', data =x_var).fit().rsquared\n",
    "        vif = round(1/(1-rsq),2)\n",
    "        print(xvar_names[i], 'VIF = ' , vif)\n",
    "        "
   ]
  },
  {
   "cell_type": "code",
   "execution_count": 586,
   "id": "015a2e15-60c1-4395-a981-b9c74b3d0621",
   "metadata": {},
   "outputs": [
    {
     "data": {
      "text/html": [
       "<div>\n",
       "<style scoped>\n",
       "    .dataframe tbody tr th:only-of-type {\n",
       "        vertical-align: middle;\n",
       "    }\n",
       "\n",
       "    .dataframe tbody tr th {\n",
       "        vertical-align: top;\n",
       "    }\n",
       "\n",
       "    .dataframe thead th {\n",
       "        text-align: right;\n",
       "    }\n",
       "</style>\n",
       "<table border=\"1\" class=\"dataframe\">\n",
       "  <thead>\n",
       "    <tr style=\"text-align: right;\">\n",
       "      <th></th>\n",
       "      <th>Hours_Studied</th>\n",
       "      <th>Previous_Scores</th>\n",
       "      <th>Extracurricular_Activities</th>\n",
       "      <th>Sleep_Hours</th>\n",
       "      <th>Sample_Question_Papers_Practiced</th>\n",
       "    </tr>\n",
       "  </thead>\n",
       "  <tbody>\n",
       "    <tr>\n",
       "      <th>0</th>\n",
       "      <td>0.775566</td>\n",
       "      <td>1.706168</td>\n",
       "      <td>1.010078</td>\n",
       "      <td>1.454025</td>\n",
       "      <td>-1.249715</td>\n",
       "    </tr>\n",
       "    <tr>\n",
       "      <th>1</th>\n",
       "      <td>-0.383205</td>\n",
       "      <td>0.724912</td>\n",
       "      <td>-0.990022</td>\n",
       "      <td>-1.491315</td>\n",
       "      <td>-0.900925</td>\n",
       "    </tr>\n",
       "    <tr>\n",
       "      <th>2</th>\n",
       "      <td>1.161822</td>\n",
       "      <td>-1.064438</td>\n",
       "      <td>1.010078</td>\n",
       "      <td>0.275889</td>\n",
       "      <td>-0.900925</td>\n",
       "    </tr>\n",
       "    <tr>\n",
       "      <th>3</th>\n",
       "      <td>0.003052</td>\n",
       "      <td>-1.006717</td>\n",
       "      <td>1.010078</td>\n",
       "      <td>-0.902247</td>\n",
       "      <td>-0.900925</td>\n",
       "    </tr>\n",
       "    <tr>\n",
       "      <th>4</th>\n",
       "      <td>0.775566</td>\n",
       "      <td>0.320865</td>\n",
       "      <td>-0.990022</td>\n",
       "      <td>0.864957</td>\n",
       "      <td>0.145444</td>\n",
       "    </tr>\n",
       "  </tbody>\n",
       "</table>\n",
       "</div>"
      ],
      "text/plain": [
       "   Hours_Studied  Previous_Scores  Extracurricular_Activities  Sleep_Hours  \\\n",
       "0       0.775566         1.706168                    1.010078     1.454025   \n",
       "1      -0.383205         0.724912                   -0.990022    -1.491315   \n",
       "2       1.161822        -1.064438                    1.010078     0.275889   \n",
       "3       0.003052        -1.006717                    1.010078    -0.902247   \n",
       "4       0.775566         0.320865                   -0.990022     0.864957   \n",
       "\n",
       "   Sample_Question_Papers_Practiced  \n",
       "0                         -1.249715  \n",
       "1                         -0.900925  \n",
       "2                         -0.900925  \n",
       "3                         -0.900925  \n",
       "4                          0.145444  "
      ]
     },
     "execution_count": 586,
     "metadata": {},
     "output_type": "execute_result"
    }
   ],
   "source": [
    "data.head()"
   ]
  },
  {
   "cell_type": "code",
   "execution_count": 587,
   "id": "1f52a4bc-842b-4f88-9397-dfb242095df7",
   "metadata": {},
   "outputs": [
    {
     "name": "stdout",
     "output_type": "stream",
     "text": [
      "Hours_Studied VIF =  1.0\n",
      "Previous_Scores VIF =  1.0\n",
      "Extracurricular_Activities VIF =  1.0\n",
      "Sleep_Hours VIF =  1.0\n",
      "Sample_Question_Papers_Practiced VIF =  1.0\n"
     ]
    }
   ],
   "source": [
    "vif_cal(z =data[['Hours_Studied','Previous_Scores','Extracurricular_Activities','Sleep_Hours','Sample_Question_Papers_Practiced']])"
   ]
  },
  {
   "cell_type": "markdown",
   "id": "18a019c6-1205-470a-918c-9cfe0d744619",
   "metadata": {},
   "source": [
    " - Obeservations\n",
    " - Based on VIF, we observed very low multicollinearity"
   ]
  },
  {
   "cell_type": "code",
   "execution_count": null,
   "id": "9c7f1d9e-47a9-48c0-b9c4-edf65808c3b6",
   "metadata": {},
   "outputs": [],
   "source": []
  },
  {
   "cell_type": "markdown",
   "id": "b19fac15-9f10-4a7d-aca5-8565854ffdbd",
   "metadata": {},
   "source": [
    "# Splitting the Data"
   ]
  },
  {
   "cell_type": "code",
   "execution_count": 591,
   "id": "e6347224-733b-4afe-93c7-f1929ba5ca2a",
   "metadata": {},
   "outputs": [
    {
     "data": {
      "text/html": [
       "<div>\n",
       "<style scoped>\n",
       "    .dataframe tbody tr th:only-of-type {\n",
       "        vertical-align: middle;\n",
       "    }\n",
       "\n",
       "    .dataframe tbody tr th {\n",
       "        vertical-align: top;\n",
       "    }\n",
       "\n",
       "    .dataframe thead th {\n",
       "        text-align: right;\n",
       "    }\n",
       "</style>\n",
       "<table border=\"1\" class=\"dataframe\">\n",
       "  <thead>\n",
       "    <tr style=\"text-align: right;\">\n",
       "      <th></th>\n",
       "      <th>Hours_Studied</th>\n",
       "      <th>Previous_Scores</th>\n",
       "      <th>Extracurricular_Activities</th>\n",
       "      <th>Sleep_Hours</th>\n",
       "      <th>Sample_Question_Papers_Practiced</th>\n",
       "    </tr>\n",
       "  </thead>\n",
       "  <tbody>\n",
       "    <tr>\n",
       "      <th>0</th>\n",
       "      <td>0.775566</td>\n",
       "      <td>1.706168</td>\n",
       "      <td>1.010078</td>\n",
       "      <td>1.454025</td>\n",
       "      <td>-1.249715</td>\n",
       "    </tr>\n",
       "    <tr>\n",
       "      <th>1</th>\n",
       "      <td>-0.383205</td>\n",
       "      <td>0.724912</td>\n",
       "      <td>-0.990022</td>\n",
       "      <td>-1.491315</td>\n",
       "      <td>-0.900925</td>\n",
       "    </tr>\n",
       "    <tr>\n",
       "      <th>2</th>\n",
       "      <td>1.161822</td>\n",
       "      <td>-1.064438</td>\n",
       "      <td>1.010078</td>\n",
       "      <td>0.275889</td>\n",
       "      <td>-0.900925</td>\n",
       "    </tr>\n",
       "    <tr>\n",
       "      <th>3</th>\n",
       "      <td>0.003052</td>\n",
       "      <td>-1.006717</td>\n",
       "      <td>1.010078</td>\n",
       "      <td>-0.902247</td>\n",
       "      <td>-0.900925</td>\n",
       "    </tr>\n",
       "    <tr>\n",
       "      <th>4</th>\n",
       "      <td>0.775566</td>\n",
       "      <td>0.320865</td>\n",
       "      <td>-0.990022</td>\n",
       "      <td>0.864957</td>\n",
       "      <td>0.145444</td>\n",
       "    </tr>\n",
       "    <tr>\n",
       "      <th>...</th>\n",
       "      <td>...</td>\n",
       "      <td>...</td>\n",
       "      <td>...</td>\n",
       "      <td>...</td>\n",
       "      <td>...</td>\n",
       "    </tr>\n",
       "    <tr>\n",
       "      <th>9868</th>\n",
       "      <td>-1.541976</td>\n",
       "      <td>-1.179880</td>\n",
       "      <td>1.010078</td>\n",
       "      <td>-1.491315</td>\n",
       "      <td>-0.900925</td>\n",
       "    </tr>\n",
       "    <tr>\n",
       "      <th>9869</th>\n",
       "      <td>0.775566</td>\n",
       "      <td>-0.314066</td>\n",
       "      <td>1.010078</td>\n",
       "      <td>0.864957</td>\n",
       "      <td>0.145444</td>\n",
       "    </tr>\n",
       "    <tr>\n",
       "      <th>9870</th>\n",
       "      <td>0.389309</td>\n",
       "      <td>0.782633</td>\n",
       "      <td>1.010078</td>\n",
       "      <td>0.864957</td>\n",
       "      <td>0.145444</td>\n",
       "    </tr>\n",
       "    <tr>\n",
       "      <th>9871</th>\n",
       "      <td>1.548079</td>\n",
       "      <td>1.590727</td>\n",
       "      <td>1.010078</td>\n",
       "      <td>0.275889</td>\n",
       "      <td>-1.598505</td>\n",
       "    </tr>\n",
       "    <tr>\n",
       "      <th>9872</th>\n",
       "      <td>0.775566</td>\n",
       "      <td>0.263144</td>\n",
       "      <td>-0.990022</td>\n",
       "      <td>0.864957</td>\n",
       "      <td>-1.249715</td>\n",
       "    </tr>\n",
       "  </tbody>\n",
       "</table>\n",
       "<p>9873 rows × 5 columns</p>\n",
       "</div>"
      ],
      "text/plain": [
       "      Hours_Studied  Previous_Scores  Extracurricular_Activities  Sleep_Hours  \\\n",
       "0          0.775566         1.706168                    1.010078     1.454025   \n",
       "1         -0.383205         0.724912                   -0.990022    -1.491315   \n",
       "2          1.161822        -1.064438                    1.010078     0.275889   \n",
       "3          0.003052        -1.006717                    1.010078    -0.902247   \n",
       "4          0.775566         0.320865                   -0.990022     0.864957   \n",
       "...             ...              ...                         ...          ...   \n",
       "9868      -1.541976        -1.179880                    1.010078    -1.491315   \n",
       "9869       0.775566        -0.314066                    1.010078     0.864957   \n",
       "9870       0.389309         0.782633                    1.010078     0.864957   \n",
       "9871       1.548079         1.590727                    1.010078     0.275889   \n",
       "9872       0.775566         0.263144                   -0.990022     0.864957   \n",
       "\n",
       "      Sample_Question_Papers_Practiced  \n",
       "0                            -1.249715  \n",
       "1                            -0.900925  \n",
       "2                            -0.900925  \n",
       "3                            -0.900925  \n",
       "4                             0.145444  \n",
       "...                                ...  \n",
       "9868                         -0.900925  \n",
       "9869                          0.145444  \n",
       "9870                          0.145444  \n",
       "9871                         -1.598505  \n",
       "9872                         -1.249715  \n",
       "\n",
       "[9873 rows x 5 columns]"
      ]
     },
     "execution_count": 591,
     "metadata": {},
     "output_type": "execute_result"
    }
   ],
   "source": [
    "data"
   ]
  },
  {
   "cell_type": "code",
   "execution_count": 592,
   "id": "8b9d74b1-6006-4ec7-89aa-31ab8ee09961",
   "metadata": {},
   "outputs": [
    {
     "data": {
      "text/plain": [
       "0       91.0\n",
       "1       65.0\n",
       "2       45.0\n",
       "3       36.0\n",
       "4       66.0\n",
       "        ... \n",
       "9995    23.0\n",
       "9996    58.0\n",
       "9997    74.0\n",
       "9998    95.0\n",
       "9999    64.0\n",
       "Name: Performance_Index, Length: 9873, dtype: float64"
      ]
     },
     "execution_count": 592,
     "metadata": {},
     "output_type": "execute_result"
    }
   ],
   "source": [
    "y"
   ]
  },
  {
   "cell_type": "code",
   "execution_count": 593,
   "id": "778f6a38-818c-494a-a26d-d91c1eefa233",
   "metadata": {},
   "outputs": [
    {
     "data": {
      "text/plain": [
       "0       91.0\n",
       "1       65.0\n",
       "2       45.0\n",
       "3       36.0\n",
       "4       66.0\n",
       "        ... \n",
       "9995    23.0\n",
       "9996    58.0\n",
       "9997    74.0\n",
       "9998    95.0\n",
       "9999    64.0\n",
       "Name: Performance_Index, Length: 9873, dtype: float64"
      ]
     },
     "execution_count": 593,
     "metadata": {},
     "output_type": "execute_result"
    }
   ],
   "source": [
    "X = data\n",
    "y"
   ]
  },
  {
   "cell_type": "code",
   "execution_count": 594,
   "id": "36f41126-c8c4-4c8e-9644-edc65c18181d",
   "metadata": {},
   "outputs": [],
   "source": [
    "from sklearn.model_selection import train_test_split"
   ]
  },
  {
   "cell_type": "code",
   "execution_count": 595,
   "id": "1bef7245-2fb0-46cc-85d5-1d0d7f04fa8e",
   "metadata": {},
   "outputs": [],
   "source": [
    "X_train,X_test,y_train,y_test = train_test_split(X,y,test_size = 0.2, random_state = 9)"
   ]
  },
  {
   "cell_type": "code",
   "execution_count": 596,
   "id": "342286a7-3cc9-4074-b171-e82586a356cd",
   "metadata": {},
   "outputs": [
    {
     "name": "stdout",
     "output_type": "stream",
     "text": [
      "(7898, 5) (7898,)\n",
      "(1975, 5) (1975,)\n"
     ]
    }
   ],
   "source": [
    "print(X_train.shape,y_train.shape)\n",
    "print(X_test.shape,y_test.shape)"
   ]
  },
  {
   "cell_type": "markdown",
   "id": "1909feac-c38b-4fe4-bc23-c58ff11d6280",
   "metadata": {},
   "source": [
    "# Model Building"
   ]
  },
  {
   "cell_type": "markdown",
   "id": "0f766a9e-ec4c-41cb-aab0-2d3af6be1232",
   "metadata": {},
   "source": [
    " - STEPS IN MODEL BUILIDING\n",
    " - import model\n",
    " - fit the model to the training as well as testing\n",
    " - make predictions\n",
    " - evaluate the model"
   ]
  },
  {
   "cell_type": "code",
   "execution_count": 599,
   "id": "6f9e97ec-a32b-4911-869b-1c68d75a48af",
   "metadata": {},
   "outputs": [
    {
     "data": {
      "text/html": [
       "<style>#sk-container-id-10 {color: black;background-color: white;}#sk-container-id-10 pre{padding: 0;}#sk-container-id-10 div.sk-toggleable {background-color: white;}#sk-container-id-10 label.sk-toggleable__label {cursor: pointer;display: block;width: 100%;margin-bottom: 0;padding: 0.3em;box-sizing: border-box;text-align: center;}#sk-container-id-10 label.sk-toggleable__label-arrow:before {content: \"▸\";float: left;margin-right: 0.25em;color: #696969;}#sk-container-id-10 label.sk-toggleable__label-arrow:hover:before {color: black;}#sk-container-id-10 div.sk-estimator:hover label.sk-toggleable__label-arrow:before {color: black;}#sk-container-id-10 div.sk-toggleable__content {max-height: 0;max-width: 0;overflow: hidden;text-align: left;background-color: #f0f8ff;}#sk-container-id-10 div.sk-toggleable__content pre {margin: 0.2em;color: black;border-radius: 0.25em;background-color: #f0f8ff;}#sk-container-id-10 input.sk-toggleable__control:checked~div.sk-toggleable__content {max-height: 200px;max-width: 100%;overflow: auto;}#sk-container-id-10 input.sk-toggleable__control:checked~label.sk-toggleable__label-arrow:before {content: \"▾\";}#sk-container-id-10 div.sk-estimator input.sk-toggleable__control:checked~label.sk-toggleable__label {background-color: #d4ebff;}#sk-container-id-10 div.sk-label input.sk-toggleable__control:checked~label.sk-toggleable__label {background-color: #d4ebff;}#sk-container-id-10 input.sk-hidden--visually {border: 0;clip: rect(1px 1px 1px 1px);clip: rect(1px, 1px, 1px, 1px);height: 1px;margin: -1px;overflow: hidden;padding: 0;position: absolute;width: 1px;}#sk-container-id-10 div.sk-estimator {font-family: monospace;background-color: #f0f8ff;border: 1px dotted black;border-radius: 0.25em;box-sizing: border-box;margin-bottom: 0.5em;}#sk-container-id-10 div.sk-estimator:hover {background-color: #d4ebff;}#sk-container-id-10 div.sk-parallel-item::after {content: \"\";width: 100%;border-bottom: 1px solid gray;flex-grow: 1;}#sk-container-id-10 div.sk-label:hover label.sk-toggleable__label {background-color: #d4ebff;}#sk-container-id-10 div.sk-serial::before {content: \"\";position: absolute;border-left: 1px solid gray;box-sizing: border-box;top: 0;bottom: 0;left: 50%;z-index: 0;}#sk-container-id-10 div.sk-serial {display: flex;flex-direction: column;align-items: center;background-color: white;padding-right: 0.2em;padding-left: 0.2em;position: relative;}#sk-container-id-10 div.sk-item {position: relative;z-index: 1;}#sk-container-id-10 div.sk-parallel {display: flex;align-items: stretch;justify-content: center;background-color: white;position: relative;}#sk-container-id-10 div.sk-item::before, #sk-container-id-10 div.sk-parallel-item::before {content: \"\";position: absolute;border-left: 1px solid gray;box-sizing: border-box;top: 0;bottom: 0;left: 50%;z-index: -1;}#sk-container-id-10 div.sk-parallel-item {display: flex;flex-direction: column;z-index: 1;position: relative;background-color: white;}#sk-container-id-10 div.sk-parallel-item:first-child::after {align-self: flex-end;width: 50%;}#sk-container-id-10 div.sk-parallel-item:last-child::after {align-self: flex-start;width: 50%;}#sk-container-id-10 div.sk-parallel-item:only-child::after {width: 0;}#sk-container-id-10 div.sk-dashed-wrapped {border: 1px dashed gray;margin: 0 0.4em 0.5em 0.4em;box-sizing: border-box;padding-bottom: 0.4em;background-color: white;}#sk-container-id-10 div.sk-label label {font-family: monospace;font-weight: bold;display: inline-block;line-height: 1.2em;}#sk-container-id-10 div.sk-label-container {text-align: center;}#sk-container-id-10 div.sk-container {/* jupyter's `normalize.less` sets `[hidden] { display: none; }` but bootstrap.min.css set `[hidden] { display: none !important; }` so we also need the `!important` here to be able to override the default hidden behavior on the sphinx rendered scikit-learn.org. See: https://github.com/scikit-learn/scikit-learn/issues/21755 */display: inline-block !important;position: relative;}#sk-container-id-10 div.sk-text-repr-fallback {display: none;}</style><div id=\"sk-container-id-10\" class=\"sk-top-container\"><div class=\"sk-text-repr-fallback\"><pre>LinearRegression()</pre><b>In a Jupyter environment, please rerun this cell to show the HTML representation or trust the notebook. <br />On GitHub, the HTML representation is unable to render, please try loading this page with nbviewer.org.</b></div><div class=\"sk-container\" hidden><div class=\"sk-item\"><div class=\"sk-estimator sk-toggleable\"><input class=\"sk-toggleable__control sk-hidden--visually\" id=\"sk-estimator-id-16\" type=\"checkbox\" checked><label for=\"sk-estimator-id-16\" class=\"sk-toggleable__label sk-toggleable__label-arrow\">LinearRegression</label><div class=\"sk-toggleable__content\"><pre>LinearRegression()</pre></div></div></div></div></div>"
      ],
      "text/plain": [
       "LinearRegression()"
      ]
     },
     "execution_count": 599,
     "metadata": {},
     "output_type": "execute_result"
    }
   ],
   "source": [
    "model = LinearRegression()\n",
    "l1 = model.fit(X_train,y_train)\n",
    "l1"
   ]
  },
  {
   "cell_type": "code",
   "execution_count": 600,
   "id": "413ca394-b106-4186-be2b-4c15ed1515ce",
   "metadata": {},
   "outputs": [],
   "source": [
    "# Finding the coeffients"
   ]
  },
  {
   "cell_type": "code",
   "execution_count": 601,
   "id": "25ab1e4c-5e41-4937-ba1f-1ea3620330b4",
   "metadata": {},
   "outputs": [
    {
     "name": "stdout",
     "output_type": "stream",
     "text": [
      "The coefficient for Hours_Studied is 7.370544600973071\n",
      "The coefficient for Previous_Scores is 17.636669880489663\n",
      "The coefficient for Extracurricular_Activities is 0.3025549640167736\n",
      "The coefficient for Sleep_Hours is 0.821572731963143\n",
      "The coefficient for Sample_Question_Papers_Practiced is 0.558765647456475\n"
     ]
    }
   ],
   "source": [
    "for idx, col in enumerate(X_train.columns):\n",
    "    print('The coefficient for {} is {}'.format(col,model.coef_[idx]))"
   ]
  },
  {
   "cell_type": "code",
   "execution_count": 608,
   "id": "28cdba90-e5ef-4904-b609-26852dbb0631",
   "metadata": {},
   "outputs": [],
   "source": [
    "# Finding the Intercept"
   ]
  },
  {
   "cell_type": "code",
   "execution_count": 609,
   "id": "3238ecbe-d5ac-4d9c-9a70-a843eb9b5a1b",
   "metadata": {},
   "outputs": [
    {
     "name": "stdout",
     "output_type": "stream",
     "text": [
      "The intercept for our model is 55.21318110998081\n"
     ]
    }
   ],
   "source": [
    "# Let us check the intercept for the model\n",
    "intercept = model.intercept_\n",
    "print('The intercept for our model is {}'.format(intercept))"
   ]
  },
  {
   "cell_type": "code",
   "execution_count": 610,
   "id": "fbf225e2-dbcc-41d5-a305-c0b7ab966374",
   "metadata": {},
   "outputs": [],
   "source": [
    "# Predicting the test variables"
   ]
  },
  {
   "cell_type": "code",
   "execution_count": 611,
   "id": "a2d438b0-f23f-4409-aaa2-beb6b1c4c0c3",
   "metadata": {},
   "outputs": [
    {
     "data": {
      "text/plain": [
       "array([80.22848032, 82.58898753, 83.20029965, ..., 66.68546453,\n",
       "       18.93935325, 82.58939617])"
      ]
     },
     "execution_count": 611,
     "metadata": {},
     "output_type": "execute_result"
    }
   ],
   "source": [
    "l1.predict(X_train)"
   ]
  },
  {
   "cell_type": "code",
   "execution_count": 612,
   "id": "29bcd3e6-cb88-4990-bb99-00317e884536",
   "metadata": {},
   "outputs": [
    {
     "data": {
      "text/html": [
       "<div>\n",
       "<style scoped>\n",
       "    .dataframe tbody tr th:only-of-type {\n",
       "        vertical-align: middle;\n",
       "    }\n",
       "\n",
       "    .dataframe tbody tr th {\n",
       "        vertical-align: top;\n",
       "    }\n",
       "\n",
       "    .dataframe thead th {\n",
       "        text-align: right;\n",
       "    }\n",
       "</style>\n",
       "<table border=\"1\" class=\"dataframe\">\n",
       "  <thead>\n",
       "    <tr style=\"text-align: right;\">\n",
       "      <th></th>\n",
       "      <th>actual</th>\n",
       "      <th>prediction</th>\n",
       "    </tr>\n",
       "  </thead>\n",
       "  <tbody>\n",
       "    <tr>\n",
       "      <th>961</th>\n",
       "      <td>77.0</td>\n",
       "      <td>80.228480</td>\n",
       "    </tr>\n",
       "    <tr>\n",
       "      <th>4570</th>\n",
       "      <td>86.0</td>\n",
       "      <td>82.588988</td>\n",
       "    </tr>\n",
       "    <tr>\n",
       "      <th>9625</th>\n",
       "      <td>79.0</td>\n",
       "      <td>83.200300</td>\n",
       "    </tr>\n",
       "    <tr>\n",
       "      <th>8066</th>\n",
       "      <td>57.0</td>\n",
       "      <td>57.270900</td>\n",
       "    </tr>\n",
       "    <tr>\n",
       "      <th>5775</th>\n",
       "      <td>54.0</td>\n",
       "      <td>56.310515</td>\n",
       "    </tr>\n",
       "    <tr>\n",
       "      <th>...</th>\n",
       "      <td>...</td>\n",
       "      <td>...</td>\n",
       "    </tr>\n",
       "    <tr>\n",
       "      <th>6248</th>\n",
       "      <td>20.0</td>\n",
       "      <td>17.347553</td>\n",
       "    </tr>\n",
       "    <tr>\n",
       "      <th>501</th>\n",
       "      <td>82.0</td>\n",
       "      <td>78.216872</td>\n",
       "    </tr>\n",
       "    <tr>\n",
       "      <th>6841</th>\n",
       "      <td>67.0</td>\n",
       "      <td>66.685465</td>\n",
       "    </tr>\n",
       "    <tr>\n",
       "      <th>4469</th>\n",
       "      <td>16.0</td>\n",
       "      <td>18.939353</td>\n",
       "    </tr>\n",
       "    <tr>\n",
       "      <th>8670</th>\n",
       "      <td>82.0</td>\n",
       "      <td>82.589396</td>\n",
       "    </tr>\n",
       "  </tbody>\n",
       "</table>\n",
       "<p>7898 rows × 2 columns</p>\n",
       "</div>"
      ],
      "text/plain": [
       "      actual  prediction\n",
       "961     77.0   80.228480\n",
       "4570    86.0   82.588988\n",
       "9625    79.0   83.200300\n",
       "8066    57.0   57.270900\n",
       "5775    54.0   56.310515\n",
       "...      ...         ...\n",
       "6248    20.0   17.347553\n",
       "501     82.0   78.216872\n",
       "6841    67.0   66.685465\n",
       "4469    16.0   18.939353\n",
       "8670    82.0   82.589396\n",
       "\n",
       "[7898 rows x 2 columns]"
      ]
     },
     "execution_count": 612,
     "metadata": {},
     "output_type": "execute_result"
    }
   ],
   "source": [
    "predict_train = pd.DataFrame()\n",
    "predict_train['actual'] = y_train\n",
    "predict_train['prediction'] = l1.predict(X_train)\n",
    "predict_train"
   ]
  },
  {
   "cell_type": "code",
   "execution_count": 613,
   "id": "beead88b-7a2e-487b-8914-99e7bceb2973",
   "metadata": {},
   "outputs": [],
   "source": [
    "# Calculating the error for predictions"
   ]
  },
  {
   "cell_type": "code",
   "execution_count": 614,
   "id": "69063f67-7648-40f3-8289-40917e9e4e3d",
   "metadata": {},
   "outputs": [],
   "source": [
    "predict_train['residual'] = predict_train['actual'] - predict_train['prediction']"
   ]
  },
  {
   "cell_type": "code",
   "execution_count": 615,
   "id": "8949ee56-de0c-4244-8747-33aa46e5f0a2",
   "metadata": {},
   "outputs": [
    {
     "data": {
      "text/html": [
       "<div>\n",
       "<style scoped>\n",
       "    .dataframe tbody tr th:only-of-type {\n",
       "        vertical-align: middle;\n",
       "    }\n",
       "\n",
       "    .dataframe tbody tr th {\n",
       "        vertical-align: top;\n",
       "    }\n",
       "\n",
       "    .dataframe thead th {\n",
       "        text-align: right;\n",
       "    }\n",
       "</style>\n",
       "<table border=\"1\" class=\"dataframe\">\n",
       "  <thead>\n",
       "    <tr style=\"text-align: right;\">\n",
       "      <th></th>\n",
       "      <th>actual</th>\n",
       "      <th>prediction</th>\n",
       "      <th>residual</th>\n",
       "    </tr>\n",
       "  </thead>\n",
       "  <tbody>\n",
       "    <tr>\n",
       "      <th>961</th>\n",
       "      <td>77.0</td>\n",
       "      <td>80.228480</td>\n",
       "      <td>-3.228480</td>\n",
       "    </tr>\n",
       "    <tr>\n",
       "      <th>4570</th>\n",
       "      <td>86.0</td>\n",
       "      <td>82.588988</td>\n",
       "      <td>3.411012</td>\n",
       "    </tr>\n",
       "    <tr>\n",
       "      <th>9625</th>\n",
       "      <td>79.0</td>\n",
       "      <td>83.200300</td>\n",
       "      <td>-4.200300</td>\n",
       "    </tr>\n",
       "    <tr>\n",
       "      <th>8066</th>\n",
       "      <td>57.0</td>\n",
       "      <td>57.270900</td>\n",
       "      <td>-0.270900</td>\n",
       "    </tr>\n",
       "    <tr>\n",
       "      <th>5775</th>\n",
       "      <td>54.0</td>\n",
       "      <td>56.310515</td>\n",
       "      <td>-2.310515</td>\n",
       "    </tr>\n",
       "    <tr>\n",
       "      <th>...</th>\n",
       "      <td>...</td>\n",
       "      <td>...</td>\n",
       "      <td>...</td>\n",
       "    </tr>\n",
       "    <tr>\n",
       "      <th>6248</th>\n",
       "      <td>20.0</td>\n",
       "      <td>17.347553</td>\n",
       "      <td>2.652447</td>\n",
       "    </tr>\n",
       "    <tr>\n",
       "      <th>501</th>\n",
       "      <td>82.0</td>\n",
       "      <td>78.216872</td>\n",
       "      <td>3.783128</td>\n",
       "    </tr>\n",
       "    <tr>\n",
       "      <th>6841</th>\n",
       "      <td>67.0</td>\n",
       "      <td>66.685465</td>\n",
       "      <td>0.314535</td>\n",
       "    </tr>\n",
       "    <tr>\n",
       "      <th>4469</th>\n",
       "      <td>16.0</td>\n",
       "      <td>18.939353</td>\n",
       "      <td>-2.939353</td>\n",
       "    </tr>\n",
       "    <tr>\n",
       "      <th>8670</th>\n",
       "      <td>82.0</td>\n",
       "      <td>82.589396</td>\n",
       "      <td>-0.589396</td>\n",
       "    </tr>\n",
       "  </tbody>\n",
       "</table>\n",
       "<p>7898 rows × 3 columns</p>\n",
       "</div>"
      ],
      "text/plain": [
       "      actual  prediction  residual\n",
       "961     77.0   80.228480 -3.228480\n",
       "4570    86.0   82.588988  3.411012\n",
       "9625    79.0   83.200300 -4.200300\n",
       "8066    57.0   57.270900 -0.270900\n",
       "5775    54.0   56.310515 -2.310515\n",
       "...      ...         ...       ...\n",
       "6248    20.0   17.347553  2.652447\n",
       "501     82.0   78.216872  3.783128\n",
       "6841    67.0   66.685465  0.314535\n",
       "4469    16.0   18.939353 -2.939353\n",
       "8670    82.0   82.589396 -0.589396\n",
       "\n",
       "[7898 rows x 3 columns]"
      ]
     },
     "execution_count": 615,
     "metadata": {},
     "output_type": "execute_result"
    }
   ],
   "source": [
    "predict_train"
   ]
  },
  {
   "cell_type": "code",
   "execution_count": 616,
   "id": "3409d765-ac3b-438b-9a2f-373e577423f5",
   "metadata": {},
   "outputs": [
    {
     "name": "stdout",
     "output_type": "stream",
     "text": [
      "4.164618488331783\n"
     ]
    }
   ],
   "source": [
    "mse_train = mean_squared_error(y_train,predict_train['prediction'])\n",
    "print(mse_train)"
   ]
  },
  {
   "cell_type": "code",
   "execution_count": 617,
   "id": "7d63e59c-048c-47f2-adf5-60a0c6521b5f",
   "metadata": {},
   "outputs": [
    {
     "data": {
      "text/plain": [
       "2.0407396914677243"
      ]
     },
     "execution_count": 617,
     "metadata": {},
     "output_type": "execute_result"
    }
   ],
   "source": [
    "mse_train**0.5"
   ]
  },
  {
   "cell_type": "code",
   "execution_count": 618,
   "id": "10284024-45c1-4217-9e65-423db78838d8",
   "metadata": {},
   "outputs": [
    {
     "data": {
      "text/plain": [
       "2.0407396914677243"
      ]
     },
     "execution_count": 618,
     "metadata": {},
     "output_type": "execute_result"
    }
   ],
   "source": [
    "np.sqrt(mse_train)"
   ]
  },
  {
   "cell_type": "markdown",
   "id": "bc0b8f46-4889-47a4-a303-481528a3b5d3",
   "metadata": {},
   "source": [
    "### Our model MSE on train data set is 4.1646 and RMSE is 2.040"
   ]
  },
  {
   "cell_type": "code",
   "execution_count": 620,
   "id": "cd915ec8-388f-44f3-8808-3bb012ee0f6a",
   "metadata": {},
   "outputs": [
    {
     "data": {
      "text/plain": [
       "-1.7714087702097206e-15"
      ]
     },
     "execution_count": 620,
     "metadata": {},
     "output_type": "execute_result"
    }
   ],
   "source": [
    "predict_train.residual.mean()"
   ]
  },
  {
   "cell_type": "markdown",
   "id": "faa59ba9-9b91-4fa9-ac15-b5019d87da79",
   "metadata": {},
   "source": [
    "# fit the model for training"
   ]
  },
  {
   "cell_type": "code",
   "execution_count": 622,
   "id": "77279aa6-376f-4cc2-b86a-4dcc95e5dbaf",
   "metadata": {},
   "outputs": [
    {
     "data": {
      "text/html": [
       "<style>#sk-container-id-11 {color: black;background-color: white;}#sk-container-id-11 pre{padding: 0;}#sk-container-id-11 div.sk-toggleable {background-color: white;}#sk-container-id-11 label.sk-toggleable__label {cursor: pointer;display: block;width: 100%;margin-bottom: 0;padding: 0.3em;box-sizing: border-box;text-align: center;}#sk-container-id-11 label.sk-toggleable__label-arrow:before {content: \"▸\";float: left;margin-right: 0.25em;color: #696969;}#sk-container-id-11 label.sk-toggleable__label-arrow:hover:before {color: black;}#sk-container-id-11 div.sk-estimator:hover label.sk-toggleable__label-arrow:before {color: black;}#sk-container-id-11 div.sk-toggleable__content {max-height: 0;max-width: 0;overflow: hidden;text-align: left;background-color: #f0f8ff;}#sk-container-id-11 div.sk-toggleable__content pre {margin: 0.2em;color: black;border-radius: 0.25em;background-color: #f0f8ff;}#sk-container-id-11 input.sk-toggleable__control:checked~div.sk-toggleable__content {max-height: 200px;max-width: 100%;overflow: auto;}#sk-container-id-11 input.sk-toggleable__control:checked~label.sk-toggleable__label-arrow:before {content: \"▾\";}#sk-container-id-11 div.sk-estimator input.sk-toggleable__control:checked~label.sk-toggleable__label {background-color: #d4ebff;}#sk-container-id-11 div.sk-label input.sk-toggleable__control:checked~label.sk-toggleable__label {background-color: #d4ebff;}#sk-container-id-11 input.sk-hidden--visually {border: 0;clip: rect(1px 1px 1px 1px);clip: rect(1px, 1px, 1px, 1px);height: 1px;margin: -1px;overflow: hidden;padding: 0;position: absolute;width: 1px;}#sk-container-id-11 div.sk-estimator {font-family: monospace;background-color: #f0f8ff;border: 1px dotted black;border-radius: 0.25em;box-sizing: border-box;margin-bottom: 0.5em;}#sk-container-id-11 div.sk-estimator:hover {background-color: #d4ebff;}#sk-container-id-11 div.sk-parallel-item::after {content: \"\";width: 100%;border-bottom: 1px solid gray;flex-grow: 1;}#sk-container-id-11 div.sk-label:hover label.sk-toggleable__label {background-color: #d4ebff;}#sk-container-id-11 div.sk-serial::before {content: \"\";position: absolute;border-left: 1px solid gray;box-sizing: border-box;top: 0;bottom: 0;left: 50%;z-index: 0;}#sk-container-id-11 div.sk-serial {display: flex;flex-direction: column;align-items: center;background-color: white;padding-right: 0.2em;padding-left: 0.2em;position: relative;}#sk-container-id-11 div.sk-item {position: relative;z-index: 1;}#sk-container-id-11 div.sk-parallel {display: flex;align-items: stretch;justify-content: center;background-color: white;position: relative;}#sk-container-id-11 div.sk-item::before, #sk-container-id-11 div.sk-parallel-item::before {content: \"\";position: absolute;border-left: 1px solid gray;box-sizing: border-box;top: 0;bottom: 0;left: 50%;z-index: -1;}#sk-container-id-11 div.sk-parallel-item {display: flex;flex-direction: column;z-index: 1;position: relative;background-color: white;}#sk-container-id-11 div.sk-parallel-item:first-child::after {align-self: flex-end;width: 50%;}#sk-container-id-11 div.sk-parallel-item:last-child::after {align-self: flex-start;width: 50%;}#sk-container-id-11 div.sk-parallel-item:only-child::after {width: 0;}#sk-container-id-11 div.sk-dashed-wrapped {border: 1px dashed gray;margin: 0 0.4em 0.5em 0.4em;box-sizing: border-box;padding-bottom: 0.4em;background-color: white;}#sk-container-id-11 div.sk-label label {font-family: monospace;font-weight: bold;display: inline-block;line-height: 1.2em;}#sk-container-id-11 div.sk-label-container {text-align: center;}#sk-container-id-11 div.sk-container {/* jupyter's `normalize.less` sets `[hidden] { display: none; }` but bootstrap.min.css set `[hidden] { display: none !important; }` so we also need the `!important` here to be able to override the default hidden behavior on the sphinx rendered scikit-learn.org. See: https://github.com/scikit-learn/scikit-learn/issues/21755 */display: inline-block !important;position: relative;}#sk-container-id-11 div.sk-text-repr-fallback {display: none;}</style><div id=\"sk-container-id-11\" class=\"sk-top-container\"><div class=\"sk-text-repr-fallback\"><pre>LinearRegression()</pre><b>In a Jupyter environment, please rerun this cell to show the HTML representation or trust the notebook. <br />On GitHub, the HTML representation is unable to render, please try loading this page with nbviewer.org.</b></div><div class=\"sk-container\" hidden><div class=\"sk-item\"><div class=\"sk-estimator sk-toggleable\"><input class=\"sk-toggleable__control sk-hidden--visually\" id=\"sk-estimator-id-17\" type=\"checkbox\" checked><label for=\"sk-estimator-id-17\" class=\"sk-toggleable__label sk-toggleable__label-arrow\">LinearRegression</label><div class=\"sk-toggleable__content\"><pre>LinearRegression()</pre></div></div></div></div></div>"
      ],
      "text/plain": [
       "LinearRegression()"
      ]
     },
     "execution_count": 622,
     "metadata": {},
     "output_type": "execute_result"
    }
   ],
   "source": [
    "l1 = model.fit(X_test,y_test)\n",
    "l1"
   ]
  },
  {
   "cell_type": "code",
   "execution_count": 623,
   "id": "89c6137f-2721-4849-acaf-4025c29283a3",
   "metadata": {},
   "outputs": [
    {
     "data": {
      "text/html": [
       "<div>\n",
       "<style scoped>\n",
       "    .dataframe tbody tr th:only-of-type {\n",
       "        vertical-align: middle;\n",
       "    }\n",
       "\n",
       "    .dataframe tbody tr th {\n",
       "        vertical-align: top;\n",
       "    }\n",
       "\n",
       "    .dataframe thead th {\n",
       "        text-align: right;\n",
       "    }\n",
       "</style>\n",
       "<table border=\"1\" class=\"dataframe\">\n",
       "  <thead>\n",
       "    <tr style=\"text-align: right;\">\n",
       "      <th></th>\n",
       "      <th>actual</th>\n",
       "      <th>prediction</th>\n",
       "    </tr>\n",
       "  </thead>\n",
       "  <tbody>\n",
       "    <tr>\n",
       "      <th>3195</th>\n",
       "      <td>65.0</td>\n",
       "      <td>64.335915</td>\n",
       "    </tr>\n",
       "    <tr>\n",
       "      <th>2543</th>\n",
       "      <td>60.0</td>\n",
       "      <td>63.049620</td>\n",
       "    </tr>\n",
       "    <tr>\n",
       "      <th>4101</th>\n",
       "      <td>91.0</td>\n",
       "      <td>92.719301</td>\n",
       "    </tr>\n",
       "    <tr>\n",
       "      <th>1222</th>\n",
       "      <td>51.0</td>\n",
       "      <td>49.554673</td>\n",
       "    </tr>\n",
       "    <tr>\n",
       "      <th>6249</th>\n",
       "      <td>59.0</td>\n",
       "      <td>55.140917</td>\n",
       "    </tr>\n",
       "    <tr>\n",
       "      <th>...</th>\n",
       "      <td>...</td>\n",
       "      <td>...</td>\n",
       "    </tr>\n",
       "    <tr>\n",
       "      <th>3364</th>\n",
       "      <td>70.0</td>\n",
       "      <td>69.807205</td>\n",
       "    </tr>\n",
       "    <tr>\n",
       "      <th>1638</th>\n",
       "      <td>75.0</td>\n",
       "      <td>72.743444</td>\n",
       "    </tr>\n",
       "    <tr>\n",
       "      <th>9540</th>\n",
       "      <td>54.0</td>\n",
       "      <td>50.693129</td>\n",
       "    </tr>\n",
       "    <tr>\n",
       "      <th>2125</th>\n",
       "      <td>81.0</td>\n",
       "      <td>80.825609</td>\n",
       "    </tr>\n",
       "    <tr>\n",
       "      <th>7513</th>\n",
       "      <td>37.0</td>\n",
       "      <td>40.224051</td>\n",
       "    </tr>\n",
       "  </tbody>\n",
       "</table>\n",
       "<p>1975 rows × 2 columns</p>\n",
       "</div>"
      ],
      "text/plain": [
       "      actual  prediction\n",
       "3195    65.0   64.335915\n",
       "2543    60.0   63.049620\n",
       "4101    91.0   92.719301\n",
       "1222    51.0   49.554673\n",
       "6249    59.0   55.140917\n",
       "...      ...         ...\n",
       "3364    70.0   69.807205\n",
       "1638    75.0   72.743444\n",
       "9540    54.0   50.693129\n",
       "2125    81.0   80.825609\n",
       "7513    37.0   40.224051\n",
       "\n",
       "[1975 rows x 2 columns]"
      ]
     },
     "execution_count": 623,
     "metadata": {},
     "output_type": "execute_result"
    }
   ],
   "source": [
    "predict_test = pd.DataFrame()\n",
    "predict_test['actual'] = y_test\n",
    "predict_test['prediction'] = l1.predict(X_test)\n",
    "predict_test"
   ]
  },
  {
   "cell_type": "code",
   "execution_count": 624,
   "id": "038f2a2b-9fee-4ba9-9a22-4492882af9cd",
   "metadata": {},
   "outputs": [],
   "source": [
    "predict_test['residual'] = predict_test['actual'] - predict_test['prediction']"
   ]
  },
  {
   "cell_type": "code",
   "execution_count": 625,
   "id": "31439919-3ddf-4d78-b046-8e11dd0eec63",
   "metadata": {},
   "outputs": [
    {
     "data": {
      "text/html": [
       "<div>\n",
       "<style scoped>\n",
       "    .dataframe tbody tr th:only-of-type {\n",
       "        vertical-align: middle;\n",
       "    }\n",
       "\n",
       "    .dataframe tbody tr th {\n",
       "        vertical-align: top;\n",
       "    }\n",
       "\n",
       "    .dataframe thead th {\n",
       "        text-align: right;\n",
       "    }\n",
       "</style>\n",
       "<table border=\"1\" class=\"dataframe\">\n",
       "  <thead>\n",
       "    <tr style=\"text-align: right;\">\n",
       "      <th></th>\n",
       "      <th>actual</th>\n",
       "      <th>prediction</th>\n",
       "      <th>residual</th>\n",
       "    </tr>\n",
       "  </thead>\n",
       "  <tbody>\n",
       "    <tr>\n",
       "      <th>3195</th>\n",
       "      <td>65.0</td>\n",
       "      <td>64.335915</td>\n",
       "      <td>0.664085</td>\n",
       "    </tr>\n",
       "    <tr>\n",
       "      <th>2543</th>\n",
       "      <td>60.0</td>\n",
       "      <td>63.049620</td>\n",
       "      <td>-3.049620</td>\n",
       "    </tr>\n",
       "    <tr>\n",
       "      <th>4101</th>\n",
       "      <td>91.0</td>\n",
       "      <td>92.719301</td>\n",
       "      <td>-1.719301</td>\n",
       "    </tr>\n",
       "    <tr>\n",
       "      <th>1222</th>\n",
       "      <td>51.0</td>\n",
       "      <td>49.554673</td>\n",
       "      <td>1.445327</td>\n",
       "    </tr>\n",
       "    <tr>\n",
       "      <th>6249</th>\n",
       "      <td>59.0</td>\n",
       "      <td>55.140917</td>\n",
       "      <td>3.859083</td>\n",
       "    </tr>\n",
       "    <tr>\n",
       "      <th>...</th>\n",
       "      <td>...</td>\n",
       "      <td>...</td>\n",
       "      <td>...</td>\n",
       "    </tr>\n",
       "    <tr>\n",
       "      <th>3364</th>\n",
       "      <td>70.0</td>\n",
       "      <td>69.807205</td>\n",
       "      <td>0.192795</td>\n",
       "    </tr>\n",
       "    <tr>\n",
       "      <th>1638</th>\n",
       "      <td>75.0</td>\n",
       "      <td>72.743444</td>\n",
       "      <td>2.256556</td>\n",
       "    </tr>\n",
       "    <tr>\n",
       "      <th>9540</th>\n",
       "      <td>54.0</td>\n",
       "      <td>50.693129</td>\n",
       "      <td>3.306871</td>\n",
       "    </tr>\n",
       "    <tr>\n",
       "      <th>2125</th>\n",
       "      <td>81.0</td>\n",
       "      <td>80.825609</td>\n",
       "      <td>0.174391</td>\n",
       "    </tr>\n",
       "    <tr>\n",
       "      <th>7513</th>\n",
       "      <td>37.0</td>\n",
       "      <td>40.224051</td>\n",
       "      <td>-3.224051</td>\n",
       "    </tr>\n",
       "  </tbody>\n",
       "</table>\n",
       "<p>1975 rows × 3 columns</p>\n",
       "</div>"
      ],
      "text/plain": [
       "      actual  prediction  residual\n",
       "3195    65.0   64.335915  0.664085\n",
       "2543    60.0   63.049620 -3.049620\n",
       "4101    91.0   92.719301 -1.719301\n",
       "1222    51.0   49.554673  1.445327\n",
       "6249    59.0   55.140917  3.859083\n",
       "...      ...         ...       ...\n",
       "3364    70.0   69.807205  0.192795\n",
       "1638    75.0   72.743444  2.256556\n",
       "9540    54.0   50.693129  3.306871\n",
       "2125    81.0   80.825609  0.174391\n",
       "7513    37.0   40.224051 -3.224051\n",
       "\n",
       "[1975 rows x 3 columns]"
      ]
     },
     "execution_count": 625,
     "metadata": {},
     "output_type": "execute_result"
    }
   ],
   "source": [
    "predict_test"
   ]
  },
  {
   "cell_type": "code",
   "execution_count": 626,
   "id": "dd174515-2bf9-4e7e-8f96-a42544148974",
   "metadata": {},
   "outputs": [
    {
     "name": "stdout",
     "output_type": "stream",
     "text": [
      "4.213723503001603\n"
     ]
    }
   ],
   "source": [
    "mse_test = mean_squared_error(y_test,predict_test['prediction'])\n",
    "print(mse_test)"
   ]
  },
  {
   "cell_type": "code",
   "execution_count": 627,
   "id": "507c741a-823b-45f2-89ef-ed5a785cf2f0",
   "metadata": {},
   "outputs": [
    {
     "data": {
      "text/plain": [
       "2.052735614491453"
      ]
     },
     "execution_count": 627,
     "metadata": {},
     "output_type": "execute_result"
    }
   ],
   "source": [
    "np.sqrt(mse_test)"
   ]
  },
  {
   "cell_type": "code",
   "execution_count": 628,
   "id": "cb8da809-1e85-4fc9-bdd7-4ffa3ff18207",
   "metadata": {},
   "outputs": [],
   "source": [
    "from sklearn.metrics import r2_score"
   ]
  },
  {
   "cell_type": "code",
   "execution_count": 629,
   "id": "274d34e8-b83f-4d91-b6c1-91e1464e7dd9",
   "metadata": {},
   "outputs": [
    {
     "name": "stdout",
     "output_type": "stream",
     "text": [
      "The r2_scorefor the train data set is {0.9887287307569751}\n"
     ]
    }
   ],
   "source": [
    "train_score = r2_score(y_train,predict_train['prediction'])\n",
    "print(\"The r2_scorefor the train data set is\",{train_score})"
   ]
  },
  {
   "cell_type": "code",
   "execution_count": 630,
   "id": "549c6e24-00e2-48c6-a4e5-b0d60306c3ef",
   "metadata": {},
   "outputs": [
    {
     "name": "stdout",
     "output_type": "stream",
     "text": [
      "The r2_scorefor the test data set is {0.9885090771637994}\n"
     ]
    }
   ],
   "source": [
    "test_score = r2_score(y_test,predict_test['prediction'])\n",
    "print(\"The r2_scorefor the test data set is\",{test_score})"
   ]
  },
  {
   "cell_type": "code",
   "execution_count": 631,
   "id": "07b9db9a-b9bd-4e66-9e9e-0b77ea8298d3",
   "metadata": {},
   "outputs": [
    {
     "name": "stderr",
     "output_type": "stream",
     "text": [
      "C:\\Users\\hp\\AppData\\Local\\Temp\\ipykernel_14912\\1859968488.py:1: UserWarning: \n",
      "\n",
      "`distplot` is a deprecated function and will be removed in seaborn v0.14.0.\n",
      "\n",
      "Please adapt your code to use either `displot` (a figure-level function with\n",
      "similar flexibility) or `histplot` (an axes-level function for histograms).\n",
      "\n",
      "For a guide to updating your code to use the new functions, please see\n",
      "https://gist.github.com/mwaskom/de44147ed2974457ad6372750bbe5751\n",
      "\n",
      "  sns.distplot(predict_test['residual'])\n"
     ]
    },
    {
     "data": {
      "text/plain": [
       "<Axes: xlabel='residual', ylabel='Density'>"
      ]
     },
     "execution_count": 631,
     "metadata": {},
     "output_type": "execute_result"
    },
    {
     "data": {
      "image/png": "[encoded data removed]",
      "text/plain": [
       "<Figure size 640x480 with 1 Axes>"
      ]
     },
     "metadata": {},
     "output_type": "display_data"
    }
   ],
   "source": [
    "sns.distplot(predict_test['residual'])"
   ]
  },
  {
   "cell_type": "code",
   "execution_count": 632,
   "id": "b9f60381-528e-45ea-a3d3-24c1fc9fa9f3",
   "metadata": {},
   "outputs": [
    {
     "data": {
      "text/plain": [
       "Text(0.5, 1.0, 'Q-Q Plot for Residual Normality Check')"
      ]
     },
     "execution_count": 632,
     "metadata": {},
     "output_type": "execute_result"
    },
    {
     "data": {
      "image/png": "[encoded data removed]",
      "text/plain": [
       "<Figure size 600x500 with 1 Axes>"
      ]
     },
     "metadata": {},
     "output_type": "display_data"
    }
   ],
   "source": [
    "plt.figure(figsize=(6, 5))\n",
    "stats.probplot(predict_test['residual'], dist=\"norm\", plot=plt)\n",
    "plt.title(\"Q-Q Plot for Residual Normality Check\")"
   ]
  },
  {
   "cell_type": "markdown",
   "id": "b30a95f1-b7f3-4c37-8740-cdafb0ae89b3",
   "metadata": {},
   "source": [
    "# Based on regression assumption, our model follow normality on  residuals"
   ]
  },
  {
   "cell_type": "markdown",
   "id": "3a1d3a2b-7283-43b0-b2f7-de27f23d894d",
   "metadata": {},
   "source": [
    " - From the above plot, we clearly observe that, errors followed Normal Distribution\n",
    " - All the residuals points on the Q-Q plot should align closely with the diagonal reference line.\r",
    " - Minor deviations at the ends are usually acceptable.\r\n",
    "\n"
   ]
  },
  {
   "cell_type": "markdown",
   "id": "59968649-2f04-4aa9-8568-b21dd81b9f3b",
   "metadata": {},
   "source": [
    "# Conclusion"
   ]
  },
  {
   "cell_type": "markdown",
   "id": "300a4bb4-895c-4dd3-9497-8f6aa62eeea3",
   "metadata": {},
   "source": [
    "- Target variables is Performance Index(Score prediction)\n",
    "- Algorithm : Multiple Linear Regression\n",
    "- R2_score for train : 98%\n",
    "- R2_score for test : 98%\n",
    "\n",
    "- Our model accuracy in both train data set & test data set is 98%\n",
    "- which means 98% good fit for the model\n",
    "- Our model, captures the 98% of the data to make predictions.\n",
    "- 98% of data in independent variables explains the target variable"
   ]
  },
  {
   "cell_type": "code",
   "execution_count": null,
   "id": "5c8b9475-6d50-4764-aae6-c6eee8410848",
   "metadata": {},
   "outputs": [],
   "source": []
  }
 ],
 "metadata": {
  "kernelspec": {
   "display_name": "Python 3 (ipykernel)",
   "language": "python",
   "name": "python3"
  },
  "language_info": {
   "codemirror_mode": {
    "name": "ipython",
    "version": 3
   },
   "file_extension": ".py",
   "mimetype": "text/x-python",
   "name": "python",
   "nbconvert_exporter": "python",
   "pygments_lexer": "ipython3",
   "version": "3.11.7"
  }
 },
 "nbformat": 4,
 "nbformat_minor": 5
}
